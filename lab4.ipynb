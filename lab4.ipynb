{
 "cells": [
  {
   "cell_type": "markdown",
   "id": "61f0104c",
   "metadata": {
    "id": "61f0104c"
   },
   "source": [
    "# Задание лабораторной работы"
   ]
  },
  {
   "cell_type": "markdown",
   "id": "8a69da4b",
   "metadata": {
    "id": "8a69da4b"
   },
   "source": [
    "- Выберите набор данных (датасет) для решения задачи классификации или регрессии.\n",
    "- В случае необходимости проведите удаление или заполнение пропусков и кодирование категориальных признаков.\n",
    "- С использованием метода train_test_split разделите выборку на обучающую и тестовую.\n",
    "- Обучите следующие модели: одну из линейных моделей (линейную или полиномиальную регрессию при решении задачи регрессии, логистическую регрессию при решении задачи классификации); SVM; дерево решений.\n",
    "- Оцените качество моделей с помощью двух подходящих для задачи метрик. Сравните качество полученных моделей.\n",
    "- Постройте график, показывающий важность признаков в дереве решений.\n",
    "- Визуализируйте дерево решений или выведите правила дерева решений в текстовом виде."
   ]
  },
  {
   "cell_type": "markdown",
   "id": "b60fced9",
   "metadata": {
    "id": "b60fced9"
   },
   "source": [
    "## Выбор и загрузка данных"
   ]
  },
  {
   "cell_type": "markdown",
   "id": "2aeedf3d",
   "metadata": {
    "id": "2aeedf3d"
   },
   "source": [
    "В качестве датасета будем использовать набор данных, содержащий данные по зарплатам и опыта работы."
   ]
  },
  {
   "cell_type": "markdown",
   "id": "a2c9ced4",
   "metadata": {
    "id": "a2c9ced4"
   },
   "source": [
    "Набор данных имеет следующие атрибуты:"
   ]
  },
  {
   "cell_type": "markdown",
   "id": "dd52e197",
   "metadata": {
    "id": "dd52e197"
   },
   "source": [
    "- Salary\n",
    "- YearsExperience"
   ]
  },
  {
   "cell_type": "markdown",
   "id": "6bfdc9dc",
   "metadata": {
    "id": "6bfdc9dc"
   },
   "source": [
    "### Импорт библиотек"
   ]
  },
  {
   "cell_type": "markdown",
   "id": "1acbb3a0",
   "metadata": {
    "id": "1acbb3a0"
   },
   "source": [
    "Импортируем библиотеки с помощью команды import:"
   ]
  },
  {
   "cell_type": "code",
   "execution_count": 1,
   "id": "386d432d",
   "metadata": {
    "id": "386d432d"
   },
   "outputs": [],
   "source": [
    "import numpy as np\n",
    "import pandas as pd\n",
    "import seaborn as sns\n",
    "import matplotlib.pyplot as plt\n",
    "%matplotlib inline\n",
    "from sklearn import datasets\n",
    "sns.set(style=\"ticks\")"
   ]
  },
  {
   "cell_type": "markdown",
   "id": "1104311e",
   "metadata": {
    "id": "1104311e"
   },
   "source": [
    "### Загрузка данных"
   ]
  },
  {
   "cell_type": "markdown",
   "id": "f0a50012",
   "metadata": {
    "id": "f0a50012"
   },
   "source": [
    "Загрузим набор данных:"
   ]
  },
  {
   "cell_type": "code",
   "execution_count": 2,
   "id": "3d6f1637",
   "metadata": {
    "colab": {
     "base_uri": "https://localhost:8080/"
    },
    "id": "3d6f1637",
    "outputId": "390c7d3f-786b-4689-f9d5-5199f2975bb9"
   },
   "outputs": [],
   "source": [
    "# from google.colab import drive\n",
    "# drive.mount('/content/drive')\n",
    "# data = pd.read_csv('/content/drive/My Drive/Car_sales.csv', sep=\",\")\n",
    "data = pd.read_csv('Salary_dataset.csv')"
   ]
  },
  {
   "cell_type": "markdown",
   "id": "60b499dd",
   "metadata": {
    "id": "60b499dd"
   },
   "source": [
    "## Первичный анализ и обработка данных"
   ]
  },
  {
   "cell_type": "markdown",
   "id": "f8fb4fca",
   "metadata": {
    "id": "f8fb4fca"
   },
   "source": [
    "Выведем первые 5 строк датасета:"
   ]
  },
  {
   "cell_type": "code",
   "execution_count": 3,
   "id": "03f7dae5",
   "metadata": {
    "colab": {
     "base_uri": "https://localhost:8080/",
     "height": 226
    },
    "id": "03f7dae5",
    "outputId": "7a81023d-fb31-4393-e0fb-b9e6cdc95459"
   },
   "outputs": [
    {
     "data": {
      "text/html": [
       "<div>\n",
       "<style scoped>\n",
       "    .dataframe tbody tr th:only-of-type {\n",
       "        vertical-align: middle;\n",
       "    }\n",
       "\n",
       "    .dataframe tbody tr th {\n",
       "        vertical-align: top;\n",
       "    }\n",
       "\n",
       "    .dataframe thead th {\n",
       "        text-align: right;\n",
       "    }\n",
       "</style>\n",
       "<table border=\"1\" class=\"dataframe\">\n",
       "  <thead>\n",
       "    <tr style=\"text-align: right;\">\n",
       "      <th></th>\n",
       "      <th>Unnamed: 0</th>\n",
       "      <th>YearsExperience</th>\n",
       "      <th>Salary</th>\n",
       "    </tr>\n",
       "  </thead>\n",
       "  <tbody>\n",
       "    <tr>\n",
       "      <th>0</th>\n",
       "      <td>0</td>\n",
       "      <td>1.2</td>\n",
       "      <td>39344.0</td>\n",
       "    </tr>\n",
       "    <tr>\n",
       "      <th>1</th>\n",
       "      <td>1</td>\n",
       "      <td>1.4</td>\n",
       "      <td>46206.0</td>\n",
       "    </tr>\n",
       "    <tr>\n",
       "      <th>2</th>\n",
       "      <td>2</td>\n",
       "      <td>1.6</td>\n",
       "      <td>37732.0</td>\n",
       "    </tr>\n",
       "    <tr>\n",
       "      <th>3</th>\n",
       "      <td>3</td>\n",
       "      <td>2.1</td>\n",
       "      <td>43526.0</td>\n",
       "    </tr>\n",
       "    <tr>\n",
       "      <th>4</th>\n",
       "      <td>4</td>\n",
       "      <td>2.3</td>\n",
       "      <td>39892.0</td>\n",
       "    </tr>\n",
       "  </tbody>\n",
       "</table>\n",
       "</div>"
      ],
      "text/plain": [
       "   Unnamed: 0  YearsExperience   Salary\n",
       "0           0              1.2  39344.0\n",
       "1           1              1.4  46206.0\n",
       "2           2              1.6  37732.0\n",
       "3           3              2.1  43526.0\n",
       "4           4              2.3  39892.0"
      ]
     },
     "execution_count": 3,
     "metadata": {},
     "output_type": "execute_result"
    }
   ],
   "source": [
    "data.head()"
   ]
  },
  {
   "cell_type": "markdown",
   "id": "121c4b68",
   "metadata": {
    "id": "121c4b68"
   },
   "source": [
    "Определим размер датасета:"
   ]
  },
  {
   "cell_type": "code",
   "execution_count": 4,
   "id": "abbd46ff",
   "metadata": {
    "colab": {
     "base_uri": "https://localhost:8080/"
    },
    "id": "abbd46ff",
    "outputId": "8eca099a-e6eb-41fd-92eb-6a67967c45f8"
   },
   "outputs": [
    {
     "data": {
      "text/plain": [
       "(30, 3)"
      ]
     },
     "execution_count": 4,
     "metadata": {},
     "output_type": "execute_result"
    }
   ],
   "source": [
    "data.shape"
   ]
  },
  {
   "cell_type": "markdown",
   "id": "66770822",
   "metadata": {
    "id": "66770822"
   },
   "source": [
    "Определим типы данных:"
   ]
  },
  {
   "cell_type": "code",
   "execution_count": 5,
   "id": "c1fdfe04",
   "metadata": {
    "colab": {
     "base_uri": "https://localhost:8080/"
    },
    "id": "c1fdfe04",
    "outputId": "b4585c74-6acb-42de-981d-4e583002c07d"
   },
   "outputs": [
    {
     "data": {
      "text/plain": [
       "Unnamed: 0           int64\n",
       "YearsExperience    float64\n",
       "Salary             float64\n",
       "dtype: object"
      ]
     },
     "execution_count": 5,
     "metadata": {},
     "output_type": "execute_result"
    }
   ],
   "source": [
    "data.dtypes"
   ]
  },
  {
   "cell_type": "markdown",
   "id": "5ed046d6",
   "metadata": {
    "id": "5ed046d6"
   },
   "source": [
    "### Разделение выборки на обучающую и тестовую"
   ]
  },
  {
   "cell_type": "markdown",
   "id": "19e89571",
   "metadata": {
    "id": "19e89571"
   },
   "source": [
    "Разделим выборку с помощью функции train_test_split:"
   ]
  },
  {
   "cell_type": "code",
   "execution_count": 6,
   "id": "3103e1be",
   "metadata": {
    "id": "3103e1be"
   },
   "outputs": [],
   "source": [
    "from sklearn.model_selection import train_test_split"
   ]
  },
  {
   "cell_type": "code",
   "execution_count": 7,
   "id": "884d6305",
   "metadata": {
    "id": "884d6305"
   },
   "outputs": [],
   "source": [
    "X_train, X_test, y_train, y_test = train_test_split(np.array(pd.DataFrame({\"tmp\" : data['YearsExperience']})), np.array(data['Salary']), random_state=1)"
   ]
  },
  {
   "cell_type": "markdown",
   "id": "041c8834",
   "metadata": {
    "id": "041c8834"
   },
   "source": [
    "Размеры обучающей выборки и тестовой выборки:"
   ]
  },
  {
   "cell_type": "code",
   "execution_count": 8,
   "id": "d71e9891-2f3a-47d2-8610-09ebf91c0c4a",
   "metadata": {
    "colab": {
     "base_uri": "https://localhost:8080/"
    },
    "id": "4575ae1e",
    "outputId": "f5de59d8-6bda-4d57-d446-174cf367d1b3"
   },
   "outputs": [
    {
     "data": {
      "text/plain": [
       "((22, 1), (22,), (8, 1), (8,))"
      ]
     },
     "execution_count": 8,
     "metadata": {},
     "output_type": "execute_result"
    }
   ],
   "source": [
    "X_train.shape, y_train.shape, X_test.shape, y_test.shape"
   ]
  },
  {
   "cell_type": "markdown",
   "id": "98b23bd5",
   "metadata": {
    "id": "98b23bd5"
   },
   "source": [
    "## Обучение моделей"
   ]
  },
  {
   "cell_type": "markdown",
   "id": "497e37fa",
   "metadata": {
    "id": "497e37fa"
   },
   "source": [
    "### Линейная модель регрессии"
   ]
  },
  {
   "cell_type": "markdown",
   "id": "a7dff2d1",
   "metadata": {
    "id": "a7dff2d1"
   },
   "source": [
    "Построим корреляционную матрицу для выявления линейной зависимости:"
   ]
  },
  {
   "cell_type": "code",
   "execution_count": 9,
   "id": "1d41a547",
   "metadata": {
    "colab": {
     "base_uri": "https://localhost:8080/",
     "height": 766
    },
    "id": "1d41a547",
    "outputId": "38b882fc-20c8-4d79-932f-a2ef8da9f8b7"
   },
   "outputs": [
    {
     "data": {
      "text/plain": [
       "<Axes: >"
      ]
     },
     "execution_count": 9,
     "metadata": {},
     "output_type": "execute_result"
    },
    {
     "data": {
      "image/png": "[encoded data removed]",
      "text/plain": [
       "<Figure size 1500x700 with 2 Axes>"
      ]
     },
     "metadata": {},
     "output_type": "display_data"
    }
   ],
   "source": [
    "fig, ax = plt.subplots(figsize=(15,7))\n",
    "sns.heatmap(data.corr(method='pearson'), ax=ax, annot=True, fmt='.2f')"
   ]
  },
  {
   "cell_type": "code",
   "execution_count": 10,
   "id": "7c9ddc5f",
   "metadata": {
    "colab": {
     "base_uri": "https://localhost:8080/",
     "height": 877
    },
    "id": "7c9ddc5f",
    "outputId": "5f1c29a3-5f4f-442a-9802-18ba8e07b6a7"
   },
   "outputs": [
    {
     "data": {
      "text/plain": [
       "<Axes: xlabel='YearsExperience', ylabel='Salary'>"
      ]
     },
     "execution_count": 10,
     "metadata": {},
     "output_type": "execute_result"
    },
    {
     "data": {
      "image/png": "[encoded data removed]",
      "text/plain": [
       "<Figure size 1000x1000 with 1 Axes>"
      ]
     },
     "metadata": {},
     "output_type": "display_data"
    }
   ],
   "source": [
    "fig, ax = plt.subplots(figsize=(10,10))\n",
    "sns.scatterplot(ax=ax, x='YearsExperience', y='Salary', data=data)"
   ]
  },
  {
   "cell_type": "markdown",
   "id": "97233e96",
   "metadata": {
    "id": "97233e96"
   },
   "source": [
    "Между признаками \"Salary\" и \"YearsExperience\" прослеживается линейная зависимость (коэффициент корреляции = 0.98)."
   ]
  },
  {
   "cell_type": "markdown",
   "id": "ce0e8434",
   "metadata": {
    "id": "ce0e8434"
   },
   "source": [
    "#### Аналитическое вычисление коэффициентов регрессии"
   ]
  },
  {
   "cell_type": "code",
   "execution_count": 11,
   "id": "6a10fabe",
   "metadata": {
    "id": "6a10fabe"
   },
   "outputs": [],
   "source": [
    "from typing import Dict, Tuple"
   ]
  },
  {
   "cell_type": "code",
   "execution_count": 12,
   "id": "e73fde6c",
   "metadata": {
    "id": "e73fde6c"
   },
   "outputs": [],
   "source": [
    "def analytic_regr_coef(x_array : np.ndarray,\n",
    "                       y_array : np.ndarray) -> Tuple[float, float]:\n",
    "    x_mean = np.mean(x_array)\n",
    "    y_mean = np.mean(y_array)\n",
    "    var1 = np.sum([(x-x_mean)**2 for x in x_array])\n",
    "    cov1 = np.sum([(x-x_mean)*(y-y_mean) for x, y in zip(x_array, y_array)])\n",
    "    b1 = cov1 / var1\n",
    "    b0 = y_mean - b1*x_mean\n",
    "    return b0, b1"
   ]
  },
  {
   "cell_type": "code",
   "execution_count": 13,
   "id": "0b2d7904",
   "metadata": {
    "id": "0b2d7904"
   },
   "outputs": [],
   "source": [
    "x_array = data['YearsExperience'].values\n",
    "y_array = data['Salary'].values"
   ]
  },
  {
   "cell_type": "markdown",
   "id": "93bb45e0",
   "metadata": {
    "id": "93bb45e0"
   },
   "source": [
    "Коэффициенты регрессии:"
   ]
  },
  {
   "cell_type": "code",
   "execution_count": 14,
   "id": "a78e02a8",
   "metadata": {
    "colab": {
     "base_uri": "https://localhost:8080/"
    },
    "id": "a78e02a8",
    "outputId": "b0770f31-a988-4a3f-a269-9dc544db43e8"
   },
   "outputs": [
    {
     "data": {
      "text/plain": [
       "(24848.2039665232, 9449.962321455076)"
      ]
     },
     "execution_count": 14,
     "metadata": {},
     "output_type": "execute_result"
    }
   ],
   "source": [
    "b0, b1 = analytic_regr_coef(x_array, y_array)\n",
    "b0, b1"
   ]
  },
  {
   "cell_type": "markdown",
   "id": "681ededa",
   "metadata": {
    "id": "681ededa"
   },
   "source": [
    "Отрисовка зависимости:"
   ]
  },
  {
   "cell_type": "code",
   "execution_count": 15,
   "id": "6dbc6132",
   "metadata": {
    "id": "6dbc6132"
   },
   "outputs": [],
   "source": [
    "def y_regr(x_array : np.ndarray, b0: float, b1: float) -> np.ndarray:\n",
    "    res = [b1*x+b0 for x in x_array]\n",
    "    return res"
   ]
  },
  {
   "cell_type": "code",
   "execution_count": 16,
   "id": "6ad7b635",
   "metadata": {
    "id": "6ad7b635"
   },
   "outputs": [],
   "source": [
    "regr_a = y_regr(x_array, b0, b1)"
   ]
  },
  {
   "cell_type": "code",
   "execution_count": 17,
   "id": "0a51d7e8",
   "metadata": {
    "colab": {
     "base_uri": "https://localhost:8080/",
     "height": 437
    },
    "id": "0a51d7e8",
    "outputId": "17fee866-6a21-4870-b551-b40b80c7f58c"
   },
   "outputs": [
    {
     "data": {
      "image/png": "[encoded data removed]",
      "text/plain": [
       "<Figure size 640x480 with 1 Axes>"
      ]
     },
     "metadata": {},
     "output_type": "display_data"
    }
   ],
   "source": [
    "plt.plot(x_array, y_array, 'g.')\n",
    "plt.plot(x_array, regr_a, 'b', linewidth=2.0)\n",
    "plt.show()"
   ]
  },
  {
   "cell_type": "markdown",
   "id": "f65e09b9",
   "metadata": {
    "id": "f65e09b9"
   },
   "source": [
    "#### Метод наименьших квадратов"
   ]
  },
  {
   "cell_type": "code",
   "execution_count": 18,
   "id": "e7e78349",
   "metadata": {
    "colab": {
     "base_uri": "https://localhost:8080/",
     "height": 434
    },
    "id": "e7e78349",
    "outputId": "74319ce4-497e-4af5-8515-d5b001e97441"
   },
   "outputs": [
    {
     "data": {
      "image/png": "[encoded data removed]",
      "text/plain": [
       "<Figure size 640x480 with 1 Axes>"
      ]
     },
     "metadata": {},
     "output_type": "display_data"
    }
   ],
   "source": [
    "K_mnk=10\n",
    "\n",
    "plt.plot(x_array[1:K_mnk+1], y_array[1:K_mnk+1], 'go')\n",
    "plt.plot(x_array[1:K_mnk+1], regr_a[1:K_mnk+1], '-ro', linewidth=2.0)\n",
    "\n",
    "for i in range(len(x_array[1:K_mnk+1])):\n",
    "    x1 = x_array[1:K_mnk+1][i]\n",
    "    y1 = y_array[1:K_mnk+1][i]\n",
    "    y2 = regr_a[1:K_mnk+1][i]\n",
    "    plt.plot([x1,x1],[y1,y2],'g-')\n",
    "\n",
    "plt.show()"
   ]
  },
  {
   "cell_type": "markdown",
   "id": "df10334c",
   "metadata": {
    "id": "df10334c"
   },
   "source": [
    "Зеленые отрезки - ошибки между истинными и предсказанными значениями."
   ]
  },
  {
   "cell_type": "markdown",
   "id": "73176a6c",
   "metadata": {
    "id": "73176a6c"
   },
   "source": [
    "#### Решение задачи оптимизации - градиентный спуск"
   ]
  },
  {
   "cell_type": "code",
   "execution_count": 19,
   "id": "b9808968",
   "metadata": {
    "id": "b9808968"
   },
   "outputs": [],
   "source": [
    "from sklearn.metrics import mean_squared_error"
   ]
  },
  {
   "cell_type": "code",
   "execution_count": 20,
   "id": "262f6822",
   "metadata": {
    "id": "262f6822"
   },
   "outputs": [],
   "source": [
    "def gradient_descent(x_array : np.ndarray,\n",
    "                     y_array : np.ndarray,\n",
    "                     b0_0 : float,\n",
    "                     b1_0 : float,\n",
    "                     epochs : int,\n",
    "                     learning_rate : float = 0.001\n",
    "                    ) -> Tuple[float, float]:\n",
    "    b0, b1 = b0_0, b1_0\n",
    "    k = float(len(x_array))\n",
    "    for i in range(epochs):\n",
    "        y_pred = b1 * x_array + b0\n",
    "        dL_db1 = (-2/k) * np.sum(np.multiply(x_array, (y_array - y_pred)))\n",
    "        dL_db0 = (-2/k) * np.sum(y_array - y_pred)\n",
    "        b1 = b1 - learning_rate * dL_db1\n",
    "        b0 = b0 - learning_rate * dL_db0\n",
    "    y_pred = b1 * x_array + b0\n",
    "    return b0, b1, y_pred"
   ]
  },
  {
   "cell_type": "code",
   "execution_count": 21,
   "id": "4ea0bc63",
   "metadata": {
    "id": "4ea0bc63"
   },
   "outputs": [],
   "source": [
    "def show_gradient_descent(epochs, b0_0, b1_0):\n",
    "    grad_b0, grad_b1, grad_y_pred = gradient_descent(x_array, y_array, b0_0, b1_0, epochs)\n",
    "    print('b0 = {} - (теоретический), {} - (градиентный спуск)'.format(b0, grad_b0))\n",
    "    print('b1 = {} - (теоретический), {} - (градиентный спуск)'.format(b1, grad_b1))\n",
    "    print('MSE = {}'.format(mean_squared_error(regr_a, grad_y_pred)))\n",
    "    plt.plot(x_array, y_array, 'g.')\n",
    "    plt.plot(x_array, regr_a, 'b', linewidth=2.0)\n",
    "    plt.plot(x_array, grad_y_pred, 'r', linewidth=2.0)\n",
    "    plt.show()"
   ]
  },
  {
   "cell_type": "code",
   "execution_count": 22,
   "id": "4cd9bc67",
   "metadata": {
    "colab": {
     "base_uri": "https://localhost:8080/",
     "height": 489
    },
    "id": "4cd9bc67",
    "outputId": "4d606d5f-9acc-498f-a7be-3b17d1b3c930"
   },
   "outputs": [
    {
     "name": "stdout",
     "output_type": "stream",
     "text": [
      "b0 = 24848.2039665232 - (теоретический), 152.008 - (градиентный спуск)\n",
      "b1 = 9449.962321455076 - (теоретический), 970.0088266666668 - (градиентный спуск)\n",
      "MSE = 5544330247.686615\n"
     ]
    },
    {
     "data": {
      "image/png": "[encoded data removed]",
      "text/plain": [
       "<Figure size 640x480 with 1 Axes>"
      ]
     },
     "metadata": {},
     "output_type": "display_data"
    }
   ],
   "source": [
    "show_gradient_descent(1, 0, 0)"
   ]
  },
  {
   "cell_type": "markdown",
   "id": "73fb0451",
   "metadata": {
    "id": "73fb0451"
   },
   "source": [
    "Добьемся сходимости алгоритма путем задания других коэффициентов:"
   ]
  },
  {
   "cell_type": "code",
   "execution_count": 23,
   "id": "89b29c85",
   "metadata": {
    "colab": {
     "base_uri": "https://localhost:8080/",
     "height": 492
    },
    "id": "89b29c85",
    "outputId": "d75a46b5-964e-496e-f0a7-c07267df91a2"
   },
   "outputs": [
    {
     "name": "stdout",
     "output_type": "stream",
     "text": [
      "b0 = 24848.2039665232 - (теоретический), 2806.1566987609963 - (градиентный спуск)\n",
      "b1 = 9449.962321455076 - (теоретический), 12680.043562546041 - (градиентный спуск)\n",
      "MSE = 101987899.44018738\n"
     ]
    },
    {
     "data": {
      "image/png": "[encoded data removed]",
      "text/plain": [
       "<Figure size 640x480 with 1 Axes>"
      ]
     },
     "metadata": {},
     "output_type": "display_data"
    }
   ],
   "source": [
    "show_gradient_descent(100, -2.98, -22)"
   ]
  },
  {
   "cell_type": "markdown",
   "id": "a4a27ef4",
   "metadata": {
    "id": "a4a27ef4"
   },
   "source": [
    "#### Подбор коэффициентов через LinearRegression"
   ]
  },
  {
   "cell_type": "code",
   "execution_count": 24,
   "id": "81bc38c0",
   "metadata": {
    "id": "81bc38c0"
   },
   "outputs": [],
   "source": [
    "from sklearn.linear_model import LinearRegression"
   ]
  },
  {
   "cell_type": "markdown",
   "id": "f2e4252f",
   "metadata": {
    "id": "f2e4252f"
   },
   "source": [
    "Коэффициенты, полученные с использованием LinearRegression:"
   ]
  },
  {
   "cell_type": "code",
   "execution_count": 25,
   "id": "af7a3fc5",
   "metadata": {
    "colab": {
     "base_uri": "https://localhost:8080/"
    },
    "id": "af7a3fc5",
    "outputId": "32f3b959-46d6-4ada-9115-efdf3defd53a"
   },
   "outputs": [
    {
     "data": {
      "text/plain": [
       "((9449.962321455076, array([[9449.96232146]])),\n",
       " (24848.2039665232, array([24848.20396652])))"
      ]
     },
     "execution_count": 25,
     "metadata": {},
     "output_type": "execute_result"
    }
   ],
   "source": [
    "regr1 = LinearRegression().fit(x_array.reshape(-1, 1), y_array.reshape(-1, 1))\n",
    "(b1, regr1.coef_), (b0, regr1.intercept_)"
   ]
  },
  {
   "cell_type": "markdown",
   "id": "a258d501",
   "metadata": {
    "id": "a258d501"
   },
   "source": [
    "Линейная модель:"
   ]
  },
  {
   "cell_type": "code",
   "execution_count": 26,
   "id": "00881f40",
   "metadata": {
    "colab": {
     "base_uri": "https://localhost:8080/",
     "height": 74
    },
    "id": "00881f40",
    "outputId": "7a8b20f0-634a-4e32-e504-aa513f62f738"
   },
   "outputs": [
    {
     "data": {
      "text/html": [
       "<style>#sk-container-id-1 {color: black;}#sk-container-id-1 pre{padding: 0;}#sk-container-id-1 div.sk-toggleable {background-color: white;}#sk-container-id-1 label.sk-toggleable__label {cursor: pointer;display: block;width: 100%;margin-bottom: 0;padding: 0.3em;box-sizing: border-box;text-align: center;}#sk-container-id-1 label.sk-toggleable__label-arrow:before {content: \"▸\";float: left;margin-right: 0.25em;color: #696969;}#sk-container-id-1 label.sk-toggleable__label-arrow:hover:before {color: black;}#sk-container-id-1 div.sk-estimator:hover label.sk-toggleable__label-arrow:before {color: black;}#sk-container-id-1 div.sk-toggleable__content {max-height: 0;max-width: 0;overflow: hidden;text-align: left;background-color: #f0f8ff;}#sk-container-id-1 div.sk-toggleable__content pre {margin: 0.2em;color: black;border-radius: 0.25em;background-color: #f0f8ff;}#sk-container-id-1 input.sk-toggleable__control:checked~div.sk-toggleable__content {max-height: 200px;max-width: 100%;overflow: auto;}#sk-container-id-1 input.sk-toggleable__control:checked~label.sk-toggleable__label-arrow:before {content: \"▾\";}#sk-container-id-1 div.sk-estimator input.sk-toggleable__control:checked~label.sk-toggleable__label {background-color: #d4ebff;}#sk-container-id-1 div.sk-label input.sk-toggleable__control:checked~label.sk-toggleable__label {background-color: #d4ebff;}#sk-container-id-1 input.sk-hidden--visually {border: 0;clip: rect(1px 1px 1px 1px);clip: rect(1px, 1px, 1px, 1px);height: 1px;margin: -1px;overflow: hidden;padding: 0;position: absolute;width: 1px;}#sk-container-id-1 div.sk-estimator {font-family: monospace;background-color: #f0f8ff;border: 1px dotted black;border-radius: 0.25em;box-sizing: border-box;margin-bottom: 0.5em;}#sk-container-id-1 div.sk-estimator:hover {background-color: #d4ebff;}#sk-container-id-1 div.sk-parallel-item::after {content: \"\";width: 100%;border-bottom: 1px solid gray;flex-grow: 1;}#sk-container-id-1 div.sk-label:hover label.sk-toggleable__label {background-color: #d4ebff;}#sk-container-id-1 div.sk-serial::before {content: \"\";position: absolute;border-left: 1px solid gray;box-sizing: border-box;top: 0;bottom: 0;left: 50%;z-index: 0;}#sk-container-id-1 div.sk-serial {display: flex;flex-direction: column;align-items: center;background-color: white;padding-right: 0.2em;padding-left: 0.2em;position: relative;}#sk-container-id-1 div.sk-item {position: relative;z-index: 1;}#sk-container-id-1 div.sk-parallel {display: flex;align-items: stretch;justify-content: center;background-color: white;position: relative;}#sk-container-id-1 div.sk-item::before, #sk-container-id-1 div.sk-parallel-item::before {content: \"\";position: absolute;border-left: 1px solid gray;box-sizing: border-box;top: 0;bottom: 0;left: 50%;z-index: -1;}#sk-container-id-1 div.sk-parallel-item {display: flex;flex-direction: column;z-index: 1;position: relative;background-color: white;}#sk-container-id-1 div.sk-parallel-item:first-child::after {align-self: flex-end;width: 50%;}#sk-container-id-1 div.sk-parallel-item:last-child::after {align-self: flex-start;width: 50%;}#sk-container-id-1 div.sk-parallel-item:only-child::after {width: 0;}#sk-container-id-1 div.sk-dashed-wrapped {border: 1px dashed gray;margin: 0 0.4em 0.5em 0.4em;box-sizing: border-box;padding-bottom: 0.4em;background-color: white;}#sk-container-id-1 div.sk-label label {font-family: monospace;font-weight: bold;display: inline-block;line-height: 1.2em;}#sk-container-id-1 div.sk-label-container {text-align: center;}#sk-container-id-1 div.sk-container {/* jupyter's `normalize.less` sets `[hidden] { display: none; }` but bootstrap.min.css set `[hidden] { display: none !important; }` so we also need the `!important` here to be able to override the default hidden behavior on the sphinx rendered scikit-learn.org. See: https://github.com/scikit-learn/scikit-learn/issues/21755 */display: inline-block !important;position: relative;}#sk-container-id-1 div.sk-text-repr-fallback {display: none;}</style><div id=\"sk-container-id-1\" class=\"sk-top-container\"><div class=\"sk-text-repr-fallback\"><pre>LinearRegression()</pre><b>In a Jupyter environment, please rerun this cell to show the HTML representation or trust the notebook. <br />On GitHub, the HTML representation is unable to render, please try loading this page with nbviewer.org.</b></div><div class=\"sk-container\" hidden><div class=\"sk-item\"><div class=\"sk-estimator sk-toggleable\"><input class=\"sk-toggleable__control sk-hidden--visually\" id=\"sk-estimator-id-1\" type=\"checkbox\" checked><label for=\"sk-estimator-id-1\" class=\"sk-toggleable__label sk-toggleable__label-arrow\">LinearRegression</label><div class=\"sk-toggleable__content\"><pre>LinearRegression()</pre></div></div></div></div></div>"
      ],
      "text/plain": [
       "LinearRegression()"
      ]
     },
     "execution_count": 26,
     "metadata": {},
     "output_type": "execute_result"
    }
   ],
   "source": [
    "model1 = LinearRegression()\n",
    "model1.fit(X_train, y_train)"
   ]
  },
  {
   "cell_type": "markdown",
   "id": "9d692673",
   "metadata": {
    "id": "9d692673"
   },
   "source": [
    "#### Стохастический градиентный спуск с использованием SGDRegressor"
   ]
  },
  {
   "cell_type": "code",
   "execution_count": 27,
   "id": "115e7cb2",
   "metadata": {
    "id": "115e7cb2"
   },
   "outputs": [],
   "source": [
    "from sklearn.linear_model import SGDRegressor"
   ]
  },
  {
   "cell_type": "markdown",
   "id": "e0bf933d",
   "metadata": {
    "id": "e0bf933d"
   },
   "source": [
    "Коэффициенты, найденные с использованием SGDRegressor:"
   ]
  },
  {
   "cell_type": "code",
   "execution_count": 28,
   "id": "6416ffff",
   "metadata": {
    "colab": {
     "base_uri": "https://localhost:8080/"
    },
    "id": "6416ffff",
    "outputId": "c933a260-abb8-4e62-b4a7-a16425967178"
   },
   "outputs": [
    {
     "data": {
      "text/plain": [
       "((9449.962321455076, array([10921.60786203])),\n",
       " (24848.2039665232, array([14531.76059704])))"
      ]
     },
     "execution_count": 28,
     "metadata": {},
     "output_type": "execute_result"
    }
   ],
   "source": [
    "regr2 = SGDRegressor().fit(x_array.reshape(-1, 1), y_array)\n",
    "(b1, regr2.coef_), (b0, regr2.intercept_)"
   ]
  },
  {
   "cell_type": "markdown",
   "id": "20312424",
   "metadata": {
    "id": "20312424"
   },
   "source": [
    "Линейная модель, построенная в этом случае:"
   ]
  },
  {
   "cell_type": "code",
   "execution_count": 29,
   "id": "a10a28d0",
   "metadata": {
    "colab": {
     "base_uri": "https://localhost:8080/",
     "height": 74
    },
    "id": "a10a28d0",
    "outputId": "aac1992b-d0ea-4378-df4b-c59abbdc9d40"
   },
   "outputs": [
    {
     "data": {
      "text/html": [
       "<style>#sk-container-id-2 {color: black;}#sk-container-id-2 pre{padding: 0;}#sk-container-id-2 div.sk-toggleable {background-color: white;}#sk-container-id-2 label.sk-toggleable__label {cursor: pointer;display: block;width: 100%;margin-bottom: 0;padding: 0.3em;box-sizing: border-box;text-align: center;}#sk-container-id-2 label.sk-toggleable__label-arrow:before {content: \"▸\";float: left;margin-right: 0.25em;color: #696969;}#sk-container-id-2 label.sk-toggleable__label-arrow:hover:before {color: black;}#sk-container-id-2 div.sk-estimator:hover label.sk-toggleable__label-arrow:before {color: black;}#sk-container-id-2 div.sk-toggleable__content {max-height: 0;max-width: 0;overflow: hidden;text-align: left;background-color: #f0f8ff;}#sk-container-id-2 div.sk-toggleable__content pre {margin: 0.2em;color: black;border-radius: 0.25em;background-color: #f0f8ff;}#sk-container-id-2 input.sk-toggleable__control:checked~div.sk-toggleable__content {max-height: 200px;max-width: 100%;overflow: auto;}#sk-container-id-2 input.sk-toggleable__control:checked~label.sk-toggleable__label-arrow:before {content: \"▾\";}#sk-container-id-2 div.sk-estimator input.sk-toggleable__control:checked~label.sk-toggleable__label {background-color: #d4ebff;}#sk-container-id-2 div.sk-label input.sk-toggleable__control:checked~label.sk-toggleable__label {background-color: #d4ebff;}#sk-container-id-2 input.sk-hidden--visually {border: 0;clip: rect(1px 1px 1px 1px);clip: rect(1px, 1px, 1px, 1px);height: 1px;margin: -1px;overflow: hidden;padding: 0;position: absolute;width: 1px;}#sk-container-id-2 div.sk-estimator {font-family: monospace;background-color: #f0f8ff;border: 1px dotted black;border-radius: 0.25em;box-sizing: border-box;margin-bottom: 0.5em;}#sk-container-id-2 div.sk-estimator:hover {background-color: #d4ebff;}#sk-container-id-2 div.sk-parallel-item::after {content: \"\";width: 100%;border-bottom: 1px solid gray;flex-grow: 1;}#sk-container-id-2 div.sk-label:hover label.sk-toggleable__label {background-color: #d4ebff;}#sk-container-id-2 div.sk-serial::before {content: \"\";position: absolute;border-left: 1px solid gray;box-sizing: border-box;top: 0;bottom: 0;left: 50%;z-index: 0;}#sk-container-id-2 div.sk-serial {display: flex;flex-direction: column;align-items: center;background-color: white;padding-right: 0.2em;padding-left: 0.2em;position: relative;}#sk-container-id-2 div.sk-item {position: relative;z-index: 1;}#sk-container-id-2 div.sk-parallel {display: flex;align-items: stretch;justify-content: center;background-color: white;position: relative;}#sk-container-id-2 div.sk-item::before, #sk-container-id-2 div.sk-parallel-item::before {content: \"\";position: absolute;border-left: 1px solid gray;box-sizing: border-box;top: 0;bottom: 0;left: 50%;z-index: -1;}#sk-container-id-2 div.sk-parallel-item {display: flex;flex-direction: column;z-index: 1;position: relative;background-color: white;}#sk-container-id-2 div.sk-parallel-item:first-child::after {align-self: flex-end;width: 50%;}#sk-container-id-2 div.sk-parallel-item:last-child::after {align-self: flex-start;width: 50%;}#sk-container-id-2 div.sk-parallel-item:only-child::after {width: 0;}#sk-container-id-2 div.sk-dashed-wrapped {border: 1px dashed gray;margin: 0 0.4em 0.5em 0.4em;box-sizing: border-box;padding-bottom: 0.4em;background-color: white;}#sk-container-id-2 div.sk-label label {font-family: monospace;font-weight: bold;display: inline-block;line-height: 1.2em;}#sk-container-id-2 div.sk-label-container {text-align: center;}#sk-container-id-2 div.sk-container {/* jupyter's `normalize.less` sets `[hidden] { display: none; }` but bootstrap.min.css set `[hidden] { display: none !important; }` so we also need the `!important` here to be able to override the default hidden behavior on the sphinx rendered scikit-learn.org. See: https://github.com/scikit-learn/scikit-learn/issues/21755 */display: inline-block !important;position: relative;}#sk-container-id-2 div.sk-text-repr-fallback {display: none;}</style><div id=\"sk-container-id-2\" class=\"sk-top-container\"><div class=\"sk-text-repr-fallback\"><pre>SGDRegressor()</pre><b>In a Jupyter environment, please rerun this cell to show the HTML representation or trust the notebook. <br />On GitHub, the HTML representation is unable to render, please try loading this page with nbviewer.org.</b></div><div class=\"sk-container\" hidden><div class=\"sk-item\"><div class=\"sk-estimator sk-toggleable\"><input class=\"sk-toggleable__control sk-hidden--visually\" id=\"sk-estimator-id-2\" type=\"checkbox\" checked><label for=\"sk-estimator-id-2\" class=\"sk-toggleable__label sk-toggleable__label-arrow\">SGDRegressor</label><div class=\"sk-toggleable__content\"><pre>SGDRegressor()</pre></div></div></div></div></div>"
      ],
      "text/plain": [
       "SGDRegressor()"
      ]
     },
     "execution_count": 29,
     "metadata": {},
     "output_type": "execute_result"
    }
   ],
   "source": [
    "model2 = SGDRegressor()\n",
    "model2.fit(X_train, y_train)"
   ]
  },
  {
   "cell_type": "markdown",
   "id": "6dea13d2",
   "metadata": {
    "id": "6dea13d2"
   },
   "source": [
    "#### L1-регуляризация линейной модели"
   ]
  },
  {
   "cell_type": "code",
   "execution_count": 30,
   "id": "89ef76cd",
   "metadata": {
    "id": "89ef76cd"
   },
   "outputs": [],
   "source": [
    "from sklearn.linear_model import Lasso"
   ]
  },
  {
   "cell_type": "markdown",
   "id": "2ee96739",
   "metadata": {
    "id": "2ee96739"
   },
   "source": [
    "Коэффициенты, полученные с использованием Lasso:"
   ]
  },
  {
   "cell_type": "code",
   "execution_count": 31,
   "id": "135712bb",
   "metadata": {
    "colab": {
     "base_uri": "https://localhost:8080/"
    },
    "id": "135712bb",
    "outputId": "ba1ad14b-c922-4749-a356-d9935e594bb9"
   },
   "outputs": [
    {
     "data": {
      "text/plain": [
       "((9449.962321455076, array([9449.83387187])),\n",
       " (24848.2039665232, 24848.899306943145))"
      ]
     },
     "execution_count": 31,
     "metadata": {},
     "output_type": "execute_result"
    }
   ],
   "source": [
    "regr3 = Lasso().fit(x_array.reshape(-1, 1), y_array)\n",
    "(b1, regr3.coef_), (b0, regr3.intercept_)"
   ]
  },
  {
   "cell_type": "markdown",
   "id": "e002bacc",
   "metadata": {
    "id": "e002bacc"
   },
   "source": [
    "Линейная модель:"
   ]
  },
  {
   "cell_type": "code",
   "execution_count": 32,
   "id": "6c133b19",
   "metadata": {
    "colab": {
     "base_uri": "https://localhost:8080/",
     "height": 74
    },
    "id": "6c133b19",
    "outputId": "dd3f74d9-631f-4c3b-9915-01fd538f61c2"
   },
   "outputs": [
    {
     "data": {
      "text/html": [
       "<style>#sk-container-id-3 {color: black;}#sk-container-id-3 pre{padding: 0;}#sk-container-id-3 div.sk-toggleable {background-color: white;}#sk-container-id-3 label.sk-toggleable__label {cursor: pointer;display: block;width: 100%;margin-bottom: 0;padding: 0.3em;box-sizing: border-box;text-align: center;}#sk-container-id-3 label.sk-toggleable__label-arrow:before {content: \"▸\";float: left;margin-right: 0.25em;color: #696969;}#sk-container-id-3 label.sk-toggleable__label-arrow:hover:before {color: black;}#sk-container-id-3 div.sk-estimator:hover label.sk-toggleable__label-arrow:before {color: black;}#sk-container-id-3 div.sk-toggleable__content {max-height: 0;max-width: 0;overflow: hidden;text-align: left;background-color: #f0f8ff;}#sk-container-id-3 div.sk-toggleable__content pre {margin: 0.2em;color: black;border-radius: 0.25em;background-color: #f0f8ff;}#sk-container-id-3 input.sk-toggleable__control:checked~div.sk-toggleable__content {max-height: 200px;max-width: 100%;overflow: auto;}#sk-container-id-3 input.sk-toggleable__control:checked~label.sk-toggleable__label-arrow:before {content: \"▾\";}#sk-container-id-3 div.sk-estimator input.sk-toggleable__control:checked~label.sk-toggleable__label {background-color: #d4ebff;}#sk-container-id-3 div.sk-label input.sk-toggleable__control:checked~label.sk-toggleable__label {background-color: #d4ebff;}#sk-container-id-3 input.sk-hidden--visually {border: 0;clip: rect(1px 1px 1px 1px);clip: rect(1px, 1px, 1px, 1px);height: 1px;margin: -1px;overflow: hidden;padding: 0;position: absolute;width: 1px;}#sk-container-id-3 div.sk-estimator {font-family: monospace;background-color: #f0f8ff;border: 1px dotted black;border-radius: 0.25em;box-sizing: border-box;margin-bottom: 0.5em;}#sk-container-id-3 div.sk-estimator:hover {background-color: #d4ebff;}#sk-container-id-3 div.sk-parallel-item::after {content: \"\";width: 100%;border-bottom: 1px solid gray;flex-grow: 1;}#sk-container-id-3 div.sk-label:hover label.sk-toggleable__label {background-color: #d4ebff;}#sk-container-id-3 div.sk-serial::before {content: \"\";position: absolute;border-left: 1px solid gray;box-sizing: border-box;top: 0;bottom: 0;left: 50%;z-index: 0;}#sk-container-id-3 div.sk-serial {display: flex;flex-direction: column;align-items: center;background-color: white;padding-right: 0.2em;padding-left: 0.2em;position: relative;}#sk-container-id-3 div.sk-item {position: relative;z-index: 1;}#sk-container-id-3 div.sk-parallel {display: flex;align-items: stretch;justify-content: center;background-color: white;position: relative;}#sk-container-id-3 div.sk-item::before, #sk-container-id-3 div.sk-parallel-item::before {content: \"\";position: absolute;border-left: 1px solid gray;box-sizing: border-box;top: 0;bottom: 0;left: 50%;z-index: -1;}#sk-container-id-3 div.sk-parallel-item {display: flex;flex-direction: column;z-index: 1;position: relative;background-color: white;}#sk-container-id-3 div.sk-parallel-item:first-child::after {align-self: flex-end;width: 50%;}#sk-container-id-3 div.sk-parallel-item:last-child::after {align-self: flex-start;width: 50%;}#sk-container-id-3 div.sk-parallel-item:only-child::after {width: 0;}#sk-container-id-3 div.sk-dashed-wrapped {border: 1px dashed gray;margin: 0 0.4em 0.5em 0.4em;box-sizing: border-box;padding-bottom: 0.4em;background-color: white;}#sk-container-id-3 div.sk-label label {font-family: monospace;font-weight: bold;display: inline-block;line-height: 1.2em;}#sk-container-id-3 div.sk-label-container {text-align: center;}#sk-container-id-3 div.sk-container {/* jupyter's `normalize.less` sets `[hidden] { display: none; }` but bootstrap.min.css set `[hidden] { display: none !important; }` so we also need the `!important` here to be able to override the default hidden behavior on the sphinx rendered scikit-learn.org. See: https://github.com/scikit-learn/scikit-learn/issues/21755 */display: inline-block !important;position: relative;}#sk-container-id-3 div.sk-text-repr-fallback {display: none;}</style><div id=\"sk-container-id-3\" class=\"sk-top-container\"><div class=\"sk-text-repr-fallback\"><pre>Lasso()</pre><b>In a Jupyter environment, please rerun this cell to show the HTML representation or trust the notebook. <br />On GitHub, the HTML representation is unable to render, please try loading this page with nbviewer.org.</b></div><div class=\"sk-container\" hidden><div class=\"sk-item\"><div class=\"sk-estimator sk-toggleable\"><input class=\"sk-toggleable__control sk-hidden--visually\" id=\"sk-estimator-id-3\" type=\"checkbox\" checked><label for=\"sk-estimator-id-3\" class=\"sk-toggleable__label sk-toggleable__label-arrow\">Lasso</label><div class=\"sk-toggleable__content\"><pre>Lasso()</pre></div></div></div></div></div>"
      ],
      "text/plain": [
       "Lasso()"
      ]
     },
     "execution_count": 32,
     "metadata": {},
     "output_type": "execute_result"
    }
   ],
   "source": [
    "model3 = Lasso()\n",
    "model3.fit(X_train, y_train)"
   ]
  },
  {
   "cell_type": "markdown",
   "id": "fb3bd250",
   "metadata": {
    "id": "fb3bd250"
   },
   "source": [
    "### SVM модель"
   ]
  },
  {
   "cell_type": "markdown",
   "id": "662ab650",
   "metadata": {
    "id": "662ab650"
   },
   "source": [
    "Будем использовать класс SVR для решения задачи регрессии методом опорных векторов:"
   ]
  },
  {
   "cell_type": "code",
   "execution_count": 33,
   "id": "f0819606",
   "metadata": {
    "id": "f0819606"
   },
   "outputs": [],
   "source": [
    "from sklearn.svm import SVR"
   ]
  },
  {
   "cell_type": "markdown",
   "id": "55644194",
   "metadata": {
    "id": "55644194"
   },
   "source": [
    "Модель SVM:"
   ]
  },
  {
   "cell_type": "code",
   "execution_count": 34,
   "id": "7da81a7e",
   "metadata": {
    "id": "7da81a7e"
   },
   "outputs": [],
   "source": [
    "regr4 = SVR(kernel='linear', C=1.0)\n",
    "model4 = regr4.fit(X_train, y_train)"
   ]
  },
  {
   "cell_type": "markdown",
   "id": "b49f9cbb",
   "metadata": {
    "id": "b49f9cbb"
   },
   "source": [
    "### Дерево решений"
   ]
  },
  {
   "cell_type": "code",
   "execution_count": 35,
   "id": "4655f580",
   "metadata": {
    "id": "4655f580"
   },
   "outputs": [],
   "source": [
    "from sklearn.tree import DecisionTreeRegressor"
   ]
  },
  {
   "cell_type": "code",
   "execution_count": 36,
   "id": "04321d26",
   "metadata": {
    "id": "04321d26"
   },
   "outputs": [],
   "source": [
    "def stat_tree(estimator):\n",
    "    n_nodes = estimator.tree_.node_count\n",
    "    children_left = estimator.tree_.children_left\n",
    "    children_right = estimator.tree_.children_right\n",
    "\n",
    "    node_depth = np.zeros(shape=n_nodes, dtype=np.int64)\n",
    "    is_leaves = np.zeros(shape=n_nodes, dtype=bool)\n",
    "    stack = [(0, -1)]  # seed is the root node id and its parent depth\n",
    "    while len(stack) > 0:\n",
    "        node_id, parent_depth = stack.pop()\n",
    "        node_depth[node_id] = parent_depth + 1\n",
    "\n",
    "        # If we have a test node\n",
    "        if (children_left[node_id] != children_right[node_id]):\n",
    "            stack.append((children_left[node_id], parent_depth + 1))\n",
    "            stack.append((children_right[node_id], parent_depth + 1))\n",
    "        else:\n",
    "            is_leaves[node_id] = True\n",
    "\n",
    "    print(\"Всего узлов:\", n_nodes)\n",
    "    print(\"Листовых узлов:\", sum(is_leaves))\n",
    "    print(\"Глубина дерева:\", max(node_depth))\n",
    "    print(\"Минимальная глубина листьев дерева:\", min(node_depth[is_leaves]))\n",
    "    print(\"Средняя глубина листьев дерева:\", node_depth[is_leaves].mean())"
   ]
  },
  {
   "cell_type": "markdown",
   "id": "6fa37d19",
   "metadata": {
    "id": "6fa37d19"
   },
   "source": [
    "Построим модель дерева с глубиной = 3:"
   ]
  },
  {
   "cell_type": "code",
   "execution_count": 37,
   "id": "2f3f681c",
   "metadata": {
    "id": "2f3f681c"
   },
   "outputs": [],
   "source": [
    "regr5 = DecisionTreeRegressor(max_depth=3)\n",
    "model5 = regr5.fit(X_train, y_train)"
   ]
  },
  {
   "cell_type": "markdown",
   "id": "3f2af0c0",
   "metadata": {
    "id": "3f2af0c0"
   },
   "source": [
    "Выведем основную статистику для дерева:"
   ]
  },
  {
   "cell_type": "code",
   "execution_count": 38,
   "id": "e0a59bd2",
   "metadata": {
    "colab": {
     "base_uri": "https://localhost:8080/"
    },
    "id": "e0a59bd2",
    "outputId": "178ec817-1a07-48ac-9a79-3f881452899f"
   },
   "outputs": [
    {
     "name": "stdout",
     "output_type": "stream",
     "text": [
      "Всего узлов: 15\n",
      "Листовых узлов: 8\n",
      "Глубина дерева: 3\n",
      "Минимальная глубина листьев дерева: 3\n",
      "Средняя глубина листьев дерева: 3.0\n"
     ]
    }
   ],
   "source": [
    "stat_tree(model5)"
   ]
  },
  {
   "cell_type": "markdown",
   "id": "2a8331ae",
   "metadata": {
    "id": "2a8331ae"
   },
   "source": [
    "И с глубиной = 5:"
   ]
  },
  {
   "cell_type": "code",
   "execution_count": 39,
   "id": "efcd01ec",
   "metadata": {
    "id": "efcd01ec"
   },
   "outputs": [],
   "source": [
    "regr6 = DecisionTreeRegressor(max_depth=5)\n",
    "model6 = regr6.fit(X_train, y_train)"
   ]
  },
  {
   "cell_type": "code",
   "execution_count": 40,
   "id": "bfbf92cd",
   "metadata": {
    "colab": {
     "base_uri": "https://localhost:8080/"
    },
    "id": "bfbf92cd",
    "outputId": "6365df5c-df2e-4c98-cc0e-d67a6773d64d"
   },
   "outputs": [
    {
     "name": "stdout",
     "output_type": "stream",
     "text": [
      "Всего узлов: 29\n",
      "Листовых узлов: 15\n",
      "Глубина дерева: 5\n",
      "Минимальная глубина листьев дерева: 3\n",
      "Средняя глубина листьев дерева: 4.133333333333334\n"
     ]
    }
   ],
   "source": [
    "stat_tree(model6)"
   ]
  },
  {
   "cell_type": "markdown",
   "id": "471d3c08",
   "metadata": {
    "id": "471d3c08"
   },
   "source": [
    "Визуализация деревьев, а также их правила представлены в пункте 6."
   ]
  },
  {
   "cell_type": "markdown",
   "id": "a65b412a",
   "metadata": {
    "id": "a65b412a"
   },
   "source": [
    "## Оценка качества моделей с помощью двух метрик. Сравнение качества."
   ]
  },
  {
   "cell_type": "markdown",
   "id": "6c203e29",
   "metadata": {
    "id": "6c203e29"
   },
   "source": [
    "Оценивать качество регрессии будем при помощи двух метрик - средней абсолютной ошибки (Mean Absolute Error) и медианной абсолютной ошибки (Median Absolute Error):"
   ]
  },
  {
   "cell_type": "code",
   "execution_count": 41,
   "id": "fe2150a4",
   "metadata": {
    "id": "fe2150a4"
   },
   "outputs": [],
   "source": [
    "from sklearn.metrics import mean_absolute_error, median_absolute_error"
   ]
  },
  {
   "cell_type": "code",
   "execution_count": 42,
   "id": "1f706fe3",
   "metadata": {
    "id": "1f706fe3"
   },
   "outputs": [],
   "source": [
    "err1 = []\n",
    "err2 = []"
   ]
  },
  {
   "cell_type": "markdown",
   "id": "41942f02",
   "metadata": {
    "id": "41942f02"
   },
   "source": [
    "Сформируем функцию для оценивания:"
   ]
  },
  {
   "cell_type": "code",
   "execution_count": 43,
   "id": "e4bc807c",
   "metadata": {
    "id": "e4bc807c"
   },
   "outputs": [],
   "source": [
    "def rate_model(model):\n",
    "    print(\"Средняя абсолютная ошибка:\",\n",
    "          mean_absolute_error(y_test, model.predict(X_test)))\n",
    "    err1.append(mean_absolute_error(y_test, model.predict(X_test)))\n",
    "    print(\"Медианная абсолютная ошибка:\",\n",
    "          median_absolute_error(y_test, model.predict(X_test)))\n",
    "    err2.append(median_absolute_error(y_test, model.predict(X_test)))"
   ]
  },
  {
   "cell_type": "code",
   "execution_count": 44,
   "id": "645ecb49",
   "metadata": {
    "colab": {
     "base_uri": "https://localhost:8080/"
    },
    "id": "645ecb49",
    "outputId": "5c20af9b-53eb-4096-8062-d411fd56180b"
   },
   "outputs": [
    {
     "name": "stdout",
     "output_type": "stream",
     "text": [
      "Средняя абсолютная ошибка: 5215.553722712967\n",
      "Медианная абсолютная ошибка: 4775.078867444594\n"
     ]
    }
   ],
   "source": [
    "rate_model(model1)"
   ]
  },
  {
   "cell_type": "code",
   "execution_count": 45,
   "id": "b789646d",
   "metadata": {
    "colab": {
     "base_uri": "https://localhost:8080/"
    },
    "id": "b789646d",
    "outputId": "638f4d24-8bff-4f4d-d72e-3ce5bebb01d4"
   },
   "outputs": [
    {
     "name": "stdout",
     "output_type": "stream",
     "text": [
      "Средняя абсолютная ошибка: 5353.565260298075\n",
      "Медианная абсолютная ошибка: 4005.1940172661634\n"
     ]
    }
   ],
   "source": [
    "rate_model(model2)"
   ]
  },
  {
   "cell_type": "code",
   "execution_count": 46,
   "id": "84e69582",
   "metadata": {
    "colab": {
     "base_uri": "https://localhost:8080/"
    },
    "id": "84e69582",
    "outputId": "b064c545-a591-4f38-a42f-5480404fd1ae"
   },
   "outputs": [
    {
     "name": "stdout",
     "output_type": "stream",
     "text": [
      "Средняя абсолютная ошибка: 5215.712354139012\n",
      "Медианная абсолютная ошибка: 4775.359180004671\n"
     ]
    }
   ],
   "source": [
    "rate_model(model3)"
   ]
  },
  {
   "cell_type": "code",
   "execution_count": 47,
   "id": "b4891b62",
   "metadata": {
    "colab": {
     "base_uri": "https://localhost:8080/"
    },
    "id": "b4891b62",
    "outputId": "cd34bb98-2ee3-4fdd-f7bc-2306eee6a07b"
   },
   "outputs": [
    {
     "name": "stdout",
     "output_type": "stream",
     "text": [
      "Средняя абсолютная ошибка: 24046.211250007153\n",
      "Медианная абсолютная ошибка: 24961.215000014305\n"
     ]
    }
   ],
   "source": [
    "rate_model(model4)"
   ]
  },
  {
   "cell_type": "code",
   "execution_count": 48,
   "id": "106ea4db",
   "metadata": {
    "colab": {
     "base_uri": "https://localhost:8080/"
    },
    "id": "106ea4db",
    "outputId": "a336ae27-733d-4641-d13a-e79dbaf4f06c"
   },
   "outputs": [
    {
     "name": "stdout",
     "output_type": "stream",
     "text": [
      "Средняя абсолютная ошибка: 8214.375\n",
      "Медианная абсолютная ошибка: 5659.0\n"
     ]
    }
   ],
   "source": [
    "rate_model(model5)"
   ]
  },
  {
   "cell_type": "code",
   "execution_count": 49,
   "id": "af78efcf",
   "metadata": {
    "colab": {
     "base_uri": "https://localhost:8080/"
    },
    "id": "af78efcf",
    "outputId": "4ed4926e-42dc-4d2c-a6f2-c2fda39576de"
   },
   "outputs": [
    {
     "name": "stdout",
     "output_type": "stream",
     "text": [
      "Средняя абсолютная ошибка: 7728.3125\n",
      "Медианная абсолютная ошибка: 5409.25\n"
     ]
    }
   ],
   "source": [
    "rate_model(model6)"
   ]
  },
  {
   "cell_type": "markdown",
   "id": "7fe0ed51",
   "metadata": {
    "id": "7fe0ed51"
   },
   "source": [
    "Чем ближе значение средней абсолютной ошибки и медианной абсолютной ошибки к нулю, тем лучше качество регрессии."
   ]
  },
  {
   "cell_type": "markdown",
   "id": "b964c3c7",
   "metadata": {
    "id": "b964c3c7"
   },
   "source": [
    "Самая лучшая по качеству по обоим метрикам - первая модель, полученная при помощи LinearRegression, а худшая - полученная через SGDRegressor."
   ]
  },
  {
   "cell_type": "markdown",
   "id": "6b9098a0",
   "metadata": {
    "id": "6b9098a0"
   },
   "source": [
    "Визуальное представление оценки:"
   ]
  },
  {
   "cell_type": "code",
   "execution_count": 50,
   "id": "90478472",
   "metadata": {
    "colab": {
     "base_uri": "https://localhost:8080/",
     "height": 869
    },
    "id": "90478472",
    "outputId": "229f489b-cb81-4143-d131-88368ed180e1"
   },
   "outputs": [
    {
     "data": {
      "text/plain": [
       "<matplotlib.collections.PathCollection at 0x281e6fbf690>"
      ]
     },
     "execution_count": 50,
     "metadata": {},
     "output_type": "execute_result"
    },
    {
     "data": {
      "image/png": "[encoded data removed]",
      "text/plain": [
       "<Figure size 1000x1000 with 1 Axes>"
      ]
     },
     "metadata": {},
     "output_type": "display_data"
    }
   ],
   "source": [
    "fig, ax = plt.subplots(figsize=(10,10))\n",
    "plt.scatter([1, 2, 3, 4, 5, 6], err1)\n",
    "plt.scatter([1, 2, 3, 4, 5, 6], err2)"
   ]
  },
  {
   "cell_type": "code",
   "execution_count": 51,
   "id": "acde8acc",
   "metadata": {
    "colab": {
     "base_uri": "https://localhost:8080/"
    },
    "id": "acde8acc",
    "outputId": "41e99679-a33f-4703-e2e1-0626b32031e1"
   },
   "outputs": [
    {
     "data": {
      "text/plain": [
       "4005.1940172661634"
      ]
     },
     "execution_count": 51,
     "metadata": {},
     "output_type": "execute_result"
    }
   ],
   "source": [
    "err1.pop(1)\n",
    "err2.pop(1)"
   ]
  },
  {
   "cell_type": "code",
   "execution_count": 52,
   "id": "dad5a47f",
   "metadata": {
    "colab": {
     "base_uri": "https://localhost:8080/",
     "height": 853
    },
    "id": "dad5a47f",
    "outputId": "428420c5-68e2-4f22-da14-42615d05f625"
   },
   "outputs": [
    {
     "data": {
      "text/plain": [
       "<matplotlib.collections.PathCollection at 0x281e702ba50>"
      ]
     },
     "execution_count": 52,
     "metadata": {},
     "output_type": "execute_result"
    },
    {
     "data": {
      "image/png": "[encoded data removed]",
      "text/plain": [
       "<Figure size 1000x1000 with 1 Axes>"
      ]
     },
     "metadata": {},
     "output_type": "display_data"
    }
   ],
   "source": [
    "fig, ax = plt.subplots(figsize=(10,10))\n",
    "plt.scatter([1, 3, 4, 5, 6], err1)\n",
    "plt.scatter([1, 3, 4, 5, 6], err2)"
   ]
  },
  {
   "cell_type": "markdown",
   "id": "cd6ada27",
   "metadata": {
    "id": "cd6ada27"
   },
   "source": [
    "## График важности признаков в дереве решений"
   ]
  },
  {
   "cell_type": "markdown",
   "id": "efbc5c22",
   "metadata": {
    "id": "efbc5c22"
   },
   "source": [
    "Вычисление важности признаков основано на том, какое количество раз признак встречается в условиях дерева:"
   ]
  },
  {
   "cell_type": "code",
   "execution_count": 53,
   "id": "9d424231",
   "metadata": {
    "id": "9d424231"
   },
   "outputs": [],
   "source": [
    "from operator import itemgetter\n",
    "\n",
    "def draw_feature_importances(tree_model, X_dataset, figsize=(18,5)):\n",
    "    \"\"\"\n",
    "    Вывод важности признаков в виде графика\n",
    "    \"\"\"\n",
    "    # Сортировка значений важности признаков по убыванию\n",
    "    list_to_sort = list(zip(X_dataset.columns.values, tree_model.feature_importances_))\n",
    "    sorted_list = sorted(list_to_sort, key=itemgetter(1), reverse = True)\n",
    "    # Названия признаков\n",
    "    labels = [x for x,_ in sorted_list]\n",
    "    # Важности признаков\n",
    "    data = [x for _,x in sorted_list]\n",
    "    # Вывод графика\n",
    "    fig, ax = plt.subplots(figsize=figsize)\n",
    "    ind = np.arange(len(labels))\n",
    "    plt.bar(ind, data)\n",
    "    plt.xticks(ind, labels, rotation='vertical')\n",
    "    # Вывод значений\n",
    "    for a,b in zip(ind, data):\n",
    "        plt.text(a-0.05, b+0.01, str(round(b,3)))\n",
    "    plt.show()\n",
    "    return labels, data"
   ]
  },
  {
   "cell_type": "markdown",
   "id": "3c000c7d",
   "metadata": {
    "id": "3c000c7d"
   },
   "source": [
    "Проверим для модели с глубиной = 3:"
   ]
  },
  {
   "cell_type": "code",
   "execution_count": 54,
   "id": "c7da63af",
   "metadata": {
    "colab": {
     "base_uri": "https://localhost:8080/"
    },
    "id": "c7da63af",
    "outputId": "dbf9f6f3-7114-432f-8ad0-445f1a0cbd4d"
   },
   "outputs": [
    {
     "data": {
      "text/plain": [
       "[(1.2000000000000002, 1.0)]"
      ]
     },
     "execution_count": 54,
     "metadata": {},
     "output_type": "execute_result"
    }
   ],
   "source": [
    "list(zip(data['YearsExperience'], model5.feature_importances_))"
   ]
  },
  {
   "cell_type": "code",
   "execution_count": 55,
   "id": "9a8857c4",
   "metadata": {
    "colab": {
     "base_uri": "https://localhost:8080/",
     "height": 588
    },
    "id": "9a8857c4",
    "outputId": "1ec37458-204c-47c5-e320-78ad919be55d"
   },
   "outputs": [
    {
     "data": {
      "image/png": "[encoded data removed]",
      "text/plain": [
       "<Figure size 1800x500 with 1 Axes>"
      ]
     },
     "metadata": {},
     "output_type": "display_data"
    }
   ],
   "source": [
    "sal_tree_cl_fl_1, sal_tree_cl_fd_1 = draw_feature_importances(model5, data)"
   ]
  },
  {
   "cell_type": "markdown",
   "id": "d65b2c97",
   "metadata": {
    "id": "d65b2c97"
   },
   "source": [
    "И для модели с глубиной = 5:"
   ]
  },
  {
   "cell_type": "code",
   "execution_count": 56,
   "id": "feab333c",
   "metadata": {
    "colab": {
     "base_uri": "https://localhost:8080/"
    },
    "id": "feab333c",
    "outputId": "13b46142-25dc-464a-c50c-95a1a089fa7a"
   },
   "outputs": [
    {
     "data": {
      "text/plain": [
       "[('Unnamed: 0', 1.0)]"
      ]
     },
     "execution_count": 56,
     "metadata": {},
     "output_type": "execute_result"
    }
   ],
   "source": [
    "list(zip(data.columns.values, model6.feature_importances_))"
   ]
  },
  {
   "cell_type": "code",
   "execution_count": 57,
   "id": "de1ef5f0",
   "metadata": {
    "colab": {
     "base_uri": "https://localhost:8080/",
     "height": 588
    },
    "id": "de1ef5f0",
    "outputId": "deda4930-b561-407f-d546-e4cb99c93ce8"
   },
   "outputs": [
    {
     "data": {
      "image/png": "[encoded data removed]",
      "text/plain": [
       "<Figure size 1800x500 with 1 Axes>"
      ]
     },
     "metadata": {},
     "output_type": "display_data"
    }
   ],
   "source": [
    "sal_tree_cl_fl_2, sal_tree_cl_fd_ = draw_feature_importances(model6, data)"
   ]
  },
  {
   "cell_type": "markdown",
   "id": "58983eeb",
   "metadata": {
    "id": "58983eeb"
   },
   "source": [
    "## Визуализация деревьев решений и его правила"
   ]
  },
  {
   "cell_type": "code",
   "execution_count": 58,
   "id": "28879689",
   "metadata": {},
   "outputs": [
    {
     "name": "stdout",
     "output_type": "stream",
     "text": [
      "Defaulting to user installation because normal site-packages is not writeable\n",
      "Requirement already satisfied: pydotplus in c:\\users\\olgap\\appdata\\roaming\\python\\python311\\site-packages (2.0.2)\n",
      "Requirement already satisfied: pyparsing>=2.0.1 in c:\\users\\olgap\\appdata\\roaming\\python\\python311\\site-packages (from pydotplus) (3.1.1)\n"
     ]
    }
   ],
   "source": [
    "! pip install pydotplus"
   ]
  },
  {
   "cell_type": "code",
   "execution_count": 59,
   "id": "32a13296-151d-4cc6-a7ea-b69e80167acd",
   "metadata": {
    "id": "25ec9f9e"
   },
   "outputs": [],
   "source": [
    "from io import StringIO\n",
    "from IPython.display import Image\n",
    "import graphviz\n",
    "import pydotplus\n",
    "from sklearn.tree import export_graphviz"
   ]
  },
  {
   "cell_type": "code",
   "execution_count": 60,
   "id": "bcb320f9-cb1f-480f-9381-f21c4b740160",
   "metadata": {
    "id": "25ec9f9e"
   },
   "outputs": [
    {
     "name": "stdout",
     "output_type": "stream",
     "text": [
      "Defaulting to user installation because normal site-packages is not writeableNote: you may need to restart the kernel to use updated packages.\n",
      "\n",
      "Requirement already satisfied: graphviz in c:\\users\\olgap\\appdata\\roaming\\python\\python311\\site-packages (0.20.1)\n"
     ]
    }
   ],
   "source": [
    "%pip install graphviz"
   ]
  },
  {
   "cell_type": "markdown",
   "id": "4b8353a9",
   "metadata": {
    "id": "4b8353a9"
   },
   "source": [
    "### Визуализация деревьев"
   ]
  },
  {
   "cell_type": "code",
   "execution_count": 61,
   "id": "c288d129",
   "metadata": {
    "id": "c288d129"
   },
   "outputs": [],
   "source": [
    "def get_png_tree(tree_model_param, feature_names_param):\n",
    "    dot_data = StringIO()\n",
    "    export_graphviz(tree_model_param, out_file=dot_data, feature_names=feature_names_param,\n",
    "                    filled=True, rounded=True, special_characters=True)\n",
    "    graph = pydotplus.graph_from_dot_data(dot_data.getvalue())\n",
    "    return graph.create_png()"
   ]
  },
  {
   "cell_type": "markdown",
   "id": "7f474399",
   "metadata": {
    "id": "7f474399"
   },
   "source": [
    "Визуализируем дерево с глубиной = 3:"
   ]
  },
  {
   "cell_type": "code",
   "execution_count": 62,
   "id": "515f7ac8",
   "metadata": {
    "colab": {
     "base_uri": "https://localhost:8080/",
     "height": 290
    },
    "id": "515f7ac8",
    "outputId": "9d486d8d-b5f6-43e7-dd7b-5f46bdf458ed"
   },
   "outputs": [
    {
     "data": {
      "image/svg+xml": [
       "<?xml version=\"1.0\" encoding=\"UTF-8\" standalone=\"no\"?>\n",
       "<!DOCTYPE svg PUBLIC \"-//W3C//DTD SVG 1.1//EN\"\n",
       " \"http://www.w3.org/Graphics/SVG/1.1/DTD/svg11.dtd\">\n",
       "<!-- Generated by graphviz version 10.0.1 (20240210.2158)\n",
       " -->\n",
       "<!-- Title: Tree Pages: 1 -->\n",
       "<svg width=\"720pt\" height=\"191pt\"\n",
       " viewBox=\"0.00 0.00 720.00 190.62\" xmlns=\"http://www.w3.org/2000/svg\" xmlns:xlink=\"http://www.w3.org/1999/xlink\">\n",
       "<g id=\"graph0\" class=\"graph\" transform=\"scale(0.481968 0.481968) rotate(0) translate(4 391.5)\">\n",
       "<title>Tree</title>\n",
       "<polygon fill=\"white\" stroke=\"none\" points=\"-4,4 -4,-391.5 1489.88,-391.5 1489.88,4 -4,4\"/>\n",
       "<!-- 0 -->\n",
       "<g id=\"node1\" class=\"node\">\n",
       "<title>0</title>\n",
       "<path fill=\"#f4caac\" stroke=\"black\" d=\"M857.12,-387.5C857.12,-387.5 656.62,-387.5 656.62,-387.5 650.62,-387.5 644.62,-381.5 644.62,-375.5 644.62,-375.5 644.62,-325.5 644.62,-325.5 644.62,-319.5 650.62,-313.5 656.62,-313.5 656.62,-313.5 857.12,-313.5 857.12,-313.5 863.12,-313.5 869.12,-319.5 869.12,-325.5 869.12,-325.5 869.12,-375.5 869.12,-375.5 869.12,-381.5 863.12,-387.5 857.12,-387.5\"/>\n",
       "<text text-anchor=\"start\" x=\"719.75\" y=\"-370.2\" font-family=\"Helvetica,sans-Serif\" font-size=\"14.00\">Salary ≤ 7.0</text>\n",
       "<text text-anchor=\"start\" x=\"652.62\" y=\"-353.7\" font-family=\"Helvetica,sans-Serif\" font-size=\"14.00\">squared_error = 794267582.322</text>\n",
       "<text text-anchor=\"start\" x=\"713.75\" y=\"-337.2\" font-family=\"Helvetica,sans-Serif\" font-size=\"14.00\">samples = 22</text>\n",
       "<text text-anchor=\"start\" x=\"697.62\" y=\"-320.7\" font-family=\"Helvetica,sans-Serif\" font-size=\"14.00\">value = 74011.364</text>\n",
       "</g>\n",
       "<!-- 1 -->\n",
       "<g id=\"node2\" class=\"node\">\n",
       "<title>1</title>\n",
       "<path fill=\"#fae5d6\" stroke=\"black\" d=\"M691.12,-277.5C691.12,-277.5 490.62,-277.5 490.62,-277.5 484.62,-277.5 478.62,-271.5 478.62,-265.5 478.62,-265.5 478.62,-215.5 478.62,-215.5 478.62,-209.5 484.62,-203.5 490.62,-203.5 490.62,-203.5 691.12,-203.5 691.12,-203.5 697.12,-203.5 703.12,-209.5 703.12,-215.5 703.12,-215.5 703.12,-265.5 703.12,-265.5 703.12,-271.5 697.12,-277.5 691.12,-277.5\"/>\n",
       "<text text-anchor=\"start\" x=\"549.62\" y=\"-260.2\" font-family=\"Helvetica,sans-Serif\" font-size=\"14.00\">Salary ≤ 2.65</text>\n",
       "<text text-anchor=\"start\" x=\"486.62\" y=\"-243.7\" font-family=\"Helvetica,sans-Serif\" font-size=\"14.00\">squared_error = 129856478.027</text>\n",
       "<text text-anchor=\"start\" x=\"547.75\" y=\"-227.2\" font-family=\"Helvetica,sans-Serif\" font-size=\"14.00\">samples = 15</text>\n",
       "<text text-anchor=\"start\" x=\"539.88\" y=\"-210.7\" font-family=\"Helvetica,sans-Serif\" font-size=\"14.00\">value = 56081.2</text>\n",
       "</g>\n",
       "<!-- 0&#45;&gt;1 -->\n",
       "<g id=\"edge1\" class=\"edge\">\n",
       "<title>0&#45;&gt;1</title>\n",
       "<path fill=\"none\" stroke=\"black\" d=\"M701.14,-313.24C686.77,-303.89 671.17,-293.74 656.35,-284.1\"/>\n",
       "<polygon fill=\"black\" stroke=\"black\" points=\"658.31,-281.2 648.02,-278.68 654.49,-287.06 658.31,-281.2\"/>\n",
       "<text text-anchor=\"middle\" x=\"651.93\" y=\"-297.26\" font-family=\"Helvetica,sans-Serif\" font-size=\"14.00\">True</text>\n",
       "</g>\n",
       "<!-- 8 -->\n",
       "<g id=\"node9\" class=\"node\">\n",
       "<title>8</title>\n",
       "<path fill=\"#e89051\" stroke=\"black\" d=\"M1055,-277.5C1055,-277.5 862.75,-277.5 862.75,-277.5 856.75,-277.5 850.75,-271.5 850.75,-265.5 850.75,-265.5 850.75,-215.5 850.75,-215.5 850.75,-209.5 856.75,-203.5 862.75,-203.5 862.75,-203.5 1055,-203.5 1055,-203.5 1061,-203.5 1067,-209.5 1067,-215.5 1067,-215.5 1067,-265.5 1067,-265.5 1067,-271.5 1061,-277.5 1055,-277.5\"/>\n",
       "<text text-anchor=\"start\" x=\"913.5\" y=\"-260.2\" font-family=\"Helvetica,sans-Serif\" font-size=\"14.00\">Salary ≤ 10.05</text>\n",
       "<text text-anchor=\"start\" x=\"858.75\" y=\"-243.7\" font-family=\"Helvetica,sans-Serif\" font-size=\"14.00\">squared_error = 52863755.837</text>\n",
       "<text text-anchor=\"start\" x=\"919.88\" y=\"-227.2\" font-family=\"Helvetica,sans-Serif\" font-size=\"14.00\">samples = 7</text>\n",
       "<text text-anchor=\"start\" x=\"895.5\" y=\"-210.7\" font-family=\"Helvetica,sans-Serif\" font-size=\"14.00\">value = 112433.143</text>\n",
       "</g>\n",
       "<!-- 0&#45;&gt;8 -->\n",
       "<g id=\"edge8\" class=\"edge\">\n",
       "<title>0&#45;&gt;8</title>\n",
       "<path fill=\"none\" stroke=\"black\" d=\"M824.98,-313.09C842.86,-303.53 862.28,-293.14 880.64,-283.33\"/>\n",
       "<polygon fill=\"black\" stroke=\"black\" points=\"882.22,-286.45 889.39,-278.65 878.92,-280.28 882.22,-286.45\"/>\n",
       "<text text-anchor=\"middle\" x=\"883.47\" y=\"-296.81\" font-family=\"Helvetica,sans-Serif\" font-size=\"14.00\">False</text>\n",
       "</g>\n",
       "<!-- 2 -->\n",
       "<g id=\"node3\" class=\"node\">\n",
       "<title>2</title>\n",
       "<path fill=\"#fefcfa\" stroke=\"black\" d=\"M405.88,-167.5C405.88,-167.5 221.88,-167.5 221.88,-167.5 215.88,-167.5 209.88,-161.5 209.88,-155.5 209.88,-155.5 209.88,-105.5 209.88,-105.5 209.88,-99.5 215.88,-93.5 221.88,-93.5 221.88,-93.5 405.88,-93.5 405.88,-93.5 411.88,-93.5 417.88,-99.5 417.88,-105.5 417.88,-105.5 417.88,-155.5 417.88,-155.5 417.88,-161.5 411.88,-167.5 405.88,-167.5\"/>\n",
       "<text text-anchor=\"start\" x=\"276.75\" y=\"-150.2\" font-family=\"Helvetica,sans-Serif\" font-size=\"14.00\">Salary ≤ 1.5</text>\n",
       "<text text-anchor=\"start\" x=\"217.88\" y=\"-133.7\" font-family=\"Helvetica,sans-Serif\" font-size=\"14.00\">squared_error = 10395422.75</text>\n",
       "<text text-anchor=\"start\" x=\"274.88\" y=\"-117.2\" font-family=\"Helvetica,sans-Serif\" font-size=\"14.00\">samples = 4</text>\n",
       "<text text-anchor=\"start\" x=\"262.88\" y=\"-100.7\" font-family=\"Helvetica,sans-Serif\" font-size=\"14.00\">value = 40793.5</text>\n",
       "</g>\n",
       "<!-- 1&#45;&gt;2 -->\n",
       "<g id=\"edge2\" class=\"edge\">\n",
       "<title>1&#45;&gt;2</title>\n",
       "<path fill=\"none\" stroke=\"black\" d=\"M497.48,-203.09C471.94,-193.13 444.11,-182.28 418.01,-172.1\"/>\n",
       "<polygon fill=\"black\" stroke=\"black\" points=\"419.33,-168.86 408.74,-168.49 416.79,-175.38 419.33,-168.86\"/>\n",
       "</g>\n",
       "<!-- 5 -->\n",
       "<g id=\"node6\" class=\"node\">\n",
       "<title>5</title>\n",
       "<path fill=\"#f8ddc9\" stroke=\"black\" d=\"M687,-167.5C687,-167.5 494.75,-167.5 494.75,-167.5 488.75,-167.5 482.75,-161.5 482.75,-155.5 482.75,-155.5 482.75,-105.5 482.75,-105.5 482.75,-99.5 488.75,-93.5 494.75,-93.5 494.75,-93.5 687,-93.5 687,-93.5 693,-93.5 699,-99.5 699,-105.5 699,-105.5 699,-155.5 699,-155.5 699,-161.5 693,-167.5 687,-167.5\"/>\n",
       "<text text-anchor=\"start\" x=\"553.75\" y=\"-150.2\" font-family=\"Helvetica,sans-Serif\" font-size=\"14.00\">Salary ≤ 5.6</text>\n",
       "<text text-anchor=\"start\" x=\"490.75\" y=\"-133.7\" font-family=\"Helvetica,sans-Serif\" font-size=\"14.00\">squared_error = 57405735.504</text>\n",
       "<text text-anchor=\"start\" x=\"547.75\" y=\"-117.2\" font-family=\"Helvetica,sans-Serif\" font-size=\"14.00\">samples = 11</text>\n",
       "<text text-anchor=\"start\" x=\"531.62\" y=\"-100.7\" font-family=\"Helvetica,sans-Serif\" font-size=\"14.00\">value = 61640.364</text>\n",
       "</g>\n",
       "<!-- 1&#45;&gt;5 -->\n",
       "<g id=\"edge5\" class=\"edge\">\n",
       "<title>1&#45;&gt;5</title>\n",
       "<path fill=\"none\" stroke=\"black\" d=\"M590.88,-203.24C590.88,-195.49 590.88,-187.2 590.88,-179.1\"/>\n",
       "<polygon fill=\"black\" stroke=\"black\" points=\"594.38,-179.36 590.88,-169.36 587.38,-179.36 594.38,-179.36\"/>\n",
       "</g>\n",
       "<!-- 3 -->\n",
       "<g id=\"node4\" class=\"node\">\n",
       "<title>3</title>\n",
       "<path fill=\"#fef9f6\" stroke=\"black\" d=\"M187.75,-57.5C187.75,-57.5 12,-57.5 12,-57.5 6,-57.5 0,-51.5 0,-45.5 0,-45.5 0,-12 0,-12 0,-6 6,0 12,0 12,0 187.75,0 187.75,0 193.75,0 199.75,-6 199.75,-12 199.75,-12 199.75,-45.5 199.75,-45.5 199.75,-51.5 193.75,-57.5 187.75,-57.5\"/>\n",
       "<text text-anchor=\"start\" x=\"8\" y=\"-40.2\" font-family=\"Helvetica,sans-Serif\" font-size=\"14.00\">squared_error = 11771761.0</text>\n",
       "<text text-anchor=\"start\" x=\"60.88\" y=\"-23.7\" font-family=\"Helvetica,sans-Serif\" font-size=\"14.00\">samples = 2</text>\n",
       "<text text-anchor=\"start\" x=\"48.88\" y=\"-7.2\" font-family=\"Helvetica,sans-Serif\" font-size=\"14.00\">value = 42775.0</text>\n",
       "</g>\n",
       "<!-- 2&#45;&gt;3 -->\n",
       "<g id=\"edge3\" class=\"edge\">\n",
       "<title>2&#45;&gt;3</title>\n",
       "<path fill=\"none\" stroke=\"black\" d=\"M235.71,-93.06C214.46,-83.16 191.58,-72.49 170.76,-62.79\"/>\n",
       "<polygon fill=\"black\" stroke=\"black\" points=\"172.32,-59.66 161.78,-58.6 169.36,-66 172.32,-59.66\"/>\n",
       "</g>\n",
       "<!-- 4 -->\n",
       "<g id=\"node5\" class=\"node\">\n",
       "<title>4</title>\n",
       "<path fill=\"#ffffff\" stroke=\"black\" d=\"M397.62,-57.5C397.62,-57.5 230.12,-57.5 230.12,-57.5 224.12,-57.5 218.12,-51.5 218.12,-45.5 218.12,-45.5 218.12,-12 218.12,-12 218.12,-6 224.12,0 230.12,0 230.12,0 397.62,0 397.62,0 403.62,0 409.62,-6 409.62,-12 409.62,-12 409.62,-45.5 409.62,-45.5 409.62,-51.5 403.62,-57.5 397.62,-57.5\"/>\n",
       "<text text-anchor=\"start\" x=\"226.12\" y=\"-40.2\" font-family=\"Helvetica,sans-Serif\" font-size=\"14.00\">squared_error = 1166400.0</text>\n",
       "<text text-anchor=\"start\" x=\"274.88\" y=\"-23.7\" font-family=\"Helvetica,sans-Serif\" font-size=\"14.00\">samples = 2</text>\n",
       "<text text-anchor=\"start\" x=\"262.88\" y=\"-7.2\" font-family=\"Helvetica,sans-Serif\" font-size=\"14.00\">value = 38812.0</text>\n",
       "</g>\n",
       "<!-- 2&#45;&gt;4 -->\n",
       "<g id=\"edge4\" class=\"edge\">\n",
       "<title>2&#45;&gt;4</title>\n",
       "<path fill=\"none\" stroke=\"black\" d=\"M313.88,-93.21C313.88,-85.35 313.88,-77 313.88,-69.03\"/>\n",
       "<polygon fill=\"black\" stroke=\"black\" points=\"317.38,-69.24 313.88,-59.24 310.38,-69.24 317.38,-69.24\"/>\n",
       "</g>\n",
       "<!-- 6 -->\n",
       "<g id=\"node7\" class=\"node\">\n",
       "<title>6</title>\n",
       "<path fill=\"#f9e0ce\" stroke=\"black\" d=\"M615.75,-57.5C615.75,-57.5 440,-57.5 440,-57.5 434,-57.5 428,-51.5 428,-45.5 428,-45.5 428,-12 428,-12 428,-6 434,0 440,0 440,0 615.75,0 615.75,0 621.75,0 627.75,-6 627.75,-12 627.75,-12 627.75,-45.5 627.75,-45.5 627.75,-51.5 621.75,-57.5 615.75,-57.5\"/>\n",
       "<text text-anchor=\"start\" x=\"436\" y=\"-40.2\" font-family=\"Helvetica,sans-Serif\" font-size=\"14.00\">squared_error = 20353907.6</text>\n",
       "<text text-anchor=\"start\" x=\"484.75\" y=\"-23.7\" font-family=\"Helvetica,sans-Serif\" font-size=\"14.00\">samples = 10</text>\n",
       "<text text-anchor=\"start\" x=\"476.88\" y=\"-7.2\" font-family=\"Helvetica,sans-Serif\" font-size=\"14.00\">value = 59668.0</text>\n",
       "</g>\n",
       "<!-- 5&#45;&gt;6 -->\n",
       "<g id=\"edge6\" class=\"edge\">\n",
       "<title>5&#45;&gt;6</title>\n",
       "<path fill=\"none\" stroke=\"black\" d=\"M567.95,-93.21C562.64,-84.8 556.98,-75.83 551.63,-67.37\"/>\n",
       "<polygon fill=\"black\" stroke=\"black\" points=\"554.65,-65.59 546.35,-59.01 548.73,-69.33 554.65,-65.59\"/>\n",
       "</g>\n",
       "<!-- 7 -->\n",
       "<g id=\"node8\" class=\"node\">\n",
       "<title>7</title>\n",
       "<path fill=\"#f2bf9a\" stroke=\"black\" d=\"M775.88,-57.5C775.88,-57.5 657.88,-57.5 657.88,-57.5 651.88,-57.5 645.88,-51.5 645.88,-45.5 645.88,-45.5 645.88,-12 645.88,-12 645.88,-6 651.88,0 657.88,0 657.88,0 775.88,0 775.88,0 781.88,0 787.88,-6 787.88,-12 787.88,-12 787.88,-45.5 787.88,-45.5 787.88,-51.5 781.88,-57.5 775.88,-57.5\"/>\n",
       "<text text-anchor=\"start\" x=\"653.88\" y=\"-40.2\" font-family=\"Helvetica,sans-Serif\" font-size=\"14.00\">squared_error = 0.0</text>\n",
       "<text text-anchor=\"start\" x=\"677.88\" y=\"-23.7\" font-family=\"Helvetica,sans-Serif\" font-size=\"14.00\">samples = 1</text>\n",
       "<text text-anchor=\"start\" x=\"665.88\" y=\"-7.2\" font-family=\"Helvetica,sans-Serif\" font-size=\"14.00\">value = 81364.0</text>\n",
       "</g>\n",
       "<!-- 5&#45;&gt;7 -->\n",
       "<g id=\"edge7\" class=\"edge\">\n",
       "<title>5&#45;&gt;7</title>\n",
       "<path fill=\"none\" stroke=\"black\" d=\"M636.72,-93.21C648.5,-83.88 661.14,-73.88 672.82,-64.63\"/>\n",
       "<polygon fill=\"black\" stroke=\"black\" points=\"674.68,-67.62 680.35,-58.67 670.34,-62.13 674.68,-67.62\"/>\n",
       "</g>\n",
       "<!-- 9 -->\n",
       "<g id=\"node10\" class=\"node\">\n",
       "<title>9</title>\n",
       "<path fill=\"#e9965a\" stroke=\"black\" d=\"M1050.88,-167.5C1050.88,-167.5 866.88,-167.5 866.88,-167.5 860.88,-167.5 854.88,-161.5 854.88,-155.5 854.88,-155.5 854.88,-105.5 854.88,-105.5 854.88,-99.5 860.88,-93.5 866.88,-93.5 866.88,-93.5 1050.88,-93.5 1050.88,-93.5 1056.88,-93.5 1062.88,-99.5 1062.88,-105.5 1062.88,-105.5 1062.88,-155.5 1062.88,-155.5 1062.88,-161.5 1056.88,-167.5 1050.88,-167.5\"/>\n",
       "<text text-anchor=\"start\" x=\"917.62\" y=\"-150.2\" font-family=\"Helvetica,sans-Serif\" font-size=\"14.00\">Salary ≤ 8.15</text>\n",
       "<text text-anchor=\"start\" x=\"862.88\" y=\"-133.7\" font-family=\"Helvetica,sans-Serif\" font-size=\"14.00\">squared_error = 21298905.84</text>\n",
       "<text text-anchor=\"start\" x=\"919.88\" y=\"-117.2\" font-family=\"Helvetica,sans-Serif\" font-size=\"14.00\">samples = 5</text>\n",
       "<text text-anchor=\"start\" x=\"903.75\" y=\"-100.7\" font-family=\"Helvetica,sans-Serif\" font-size=\"14.00\">value = 108553.4</text>\n",
       "</g>\n",
       "<!-- 8&#45;&gt;9 -->\n",
       "<g id=\"edge9\" class=\"edge\">\n",
       "<title>8&#45;&gt;9</title>\n",
       "<path fill=\"none\" stroke=\"black\" d=\"M958.88,-203.24C958.88,-195.49 958.88,-187.2 958.88,-179.1\"/>\n",
       "<polygon fill=\"black\" stroke=\"black\" points=\"962.38,-179.36 958.88,-169.36 955.38,-179.36 962.38,-179.36\"/>\n",
       "</g>\n",
       "<!-- 12 -->\n",
       "<g id=\"node13\" class=\"node\">\n",
       "<title>12</title>\n",
       "<path fill=\"#e5813a\" stroke=\"black\" d=\"M1334.5,-167.5C1334.5,-167.5 1175.25,-167.5 1175.25,-167.5 1169.25,-167.5 1163.25,-161.5 1163.25,-155.5 1163.25,-155.5 1163.25,-105.5 1163.25,-105.5 1163.25,-99.5 1169.25,-93.5 1175.25,-93.5 1175.25,-93.5 1334.5,-93.5 1334.5,-93.5 1340.5,-93.5 1346.5,-99.5 1346.5,-105.5 1346.5,-105.5 1346.5,-155.5 1346.5,-155.5 1346.5,-161.5 1340.5,-167.5 1334.5,-167.5\"/>\n",
       "<text text-anchor=\"start\" x=\"1213.62\" y=\"-150.2\" font-family=\"Helvetica,sans-Serif\" font-size=\"14.00\">Salary ≤ 10.5</text>\n",
       "<text text-anchor=\"start\" x=\"1171.25\" y=\"-133.7\" font-family=\"Helvetica,sans-Serif\" font-size=\"14.00\">squared_error = 67340.25</text>\n",
       "<text text-anchor=\"start\" x=\"1215.88\" y=\"-117.2\" font-family=\"Helvetica,sans-Serif\" font-size=\"14.00\">samples = 2</text>\n",
       "<text text-anchor=\"start\" x=\"1199.75\" y=\"-100.7\" font-family=\"Helvetica,sans-Serif\" font-size=\"14.00\">value = 122132.5</text>\n",
       "</g>\n",
       "<!-- 8&#45;&gt;12 -->\n",
       "<g id=\"edge12\" class=\"edge\">\n",
       "<title>8&#45;&gt;12</title>\n",
       "<path fill=\"none\" stroke=\"black\" d=\"M1058.67,-203.09C1088.85,-192.08 1122.03,-179.97 1152.38,-168.9\"/>\n",
       "<polygon fill=\"black\" stroke=\"black\" points=\"1153.37,-172.26 1161.57,-165.55 1150.97,-165.69 1153.37,-172.26\"/>\n",
       "</g>\n",
       "<!-- 10 -->\n",
       "<g id=\"node11\" class=\"node\">\n",
       "<title>10</title>\n",
       "<path fill=\"#eca16b\" stroke=\"black\" d=\"M935.88,-57.5C935.88,-57.5 817.88,-57.5 817.88,-57.5 811.88,-57.5 805.88,-51.5 805.88,-45.5 805.88,-45.5 805.88,-12 805.88,-12 805.88,-6 811.88,0 817.88,0 817.88,0 935.88,0 935.88,0 941.88,0 947.88,-6 947.88,-12 947.88,-12 947.88,-45.5 947.88,-45.5 947.88,-51.5 941.88,-57.5 935.88,-57.5\"/>\n",
       "<text text-anchor=\"start\" x=\"813.88\" y=\"-40.2\" font-family=\"Helvetica,sans-Serif\" font-size=\"14.00\">squared_error = 0.0</text>\n",
       "<text text-anchor=\"start\" x=\"837.88\" y=\"-23.7\" font-family=\"Helvetica,sans-Serif\" font-size=\"14.00\">samples = 1</text>\n",
       "<text text-anchor=\"start\" x=\"821.75\" y=\"-7.2\" font-family=\"Helvetica,sans-Serif\" font-size=\"14.00\">value = 101303.0</text>\n",
       "</g>\n",
       "<!-- 9&#45;&gt;10 -->\n",
       "<g id=\"edge10\" class=\"edge\">\n",
       "<title>9&#45;&gt;10</title>\n",
       "<path fill=\"none\" stroke=\"black\" d=\"M929.04,-93.21C921.9,-84.52 914.28,-75.25 907.12,-66.54\"/>\n",
       "<polygon fill=\"black\" stroke=\"black\" points=\"909.89,-64.4 900.84,-58.9 904.48,-68.84 909.89,-64.4\"/>\n",
       "</g>\n",
       "<!-- 11 -->\n",
       "<g id=\"node12\" class=\"node\">\n",
       "<title>11</title>\n",
       "<path fill=\"#e99355\" stroke=\"black\" d=\"M1153.75,-57.5C1153.75,-57.5 978,-57.5 978,-57.5 972,-57.5 966,-51.5 966,-45.5 966,-45.5 966,-12 966,-12 966,-6 972,0 978,0 978,0 1153.75,0 1153.75,0 1159.75,0 1165.75,-6 1165.75,-12 1165.75,-12 1165.75,-45.5 1165.75,-45.5 1165.75,-51.5 1159.75,-57.5 1153.75,-57.5\"/>\n",
       "<text text-anchor=\"start\" x=\"974\" y=\"-40.2\" font-family=\"Helvetica,sans-Serif\" font-size=\"14.00\">squared_error = 10196038.5</text>\n",
       "<text text-anchor=\"start\" x=\"1026.88\" y=\"-23.7\" font-family=\"Helvetica,sans-Serif\" font-size=\"14.00\">samples = 4</text>\n",
       "<text text-anchor=\"start\" x=\"1010.75\" y=\"-7.2\" font-family=\"Helvetica,sans-Serif\" font-size=\"14.00\">value = 110366.0</text>\n",
       "</g>\n",
       "<!-- 9&#45;&gt;11 -->\n",
       "<g id=\"edge11\" class=\"edge\">\n",
       "<title>9&#45;&gt;11</title>\n",
       "<path fill=\"none\" stroke=\"black\" d=\"M997.81,-93.21C1007.51,-84.16 1017.91,-74.46 1027.58,-65.45\"/>\n",
       "<polygon fill=\"black\" stroke=\"black\" points=\"1029.83,-68.14 1034.76,-58.76 1025.06,-63.02 1029.83,-68.14\"/>\n",
       "</g>\n",
       "<!-- 13 -->\n",
       "<g id=\"node14\" class=\"node\">\n",
       "<title>13</title>\n",
       "<path fill=\"#e58139\" stroke=\"black\" d=\"M1313.88,-57.5C1313.88,-57.5 1195.88,-57.5 1195.88,-57.5 1189.88,-57.5 1183.88,-51.5 1183.88,-45.5 1183.88,-45.5 1183.88,-12 1183.88,-12 1183.88,-6 1189.88,0 1195.88,0 1195.88,0 1313.88,0 1313.88,0 1319.88,0 1325.88,-6 1325.88,-12 1325.88,-12 1325.88,-45.5 1325.88,-45.5 1325.88,-51.5 1319.88,-57.5 1313.88,-57.5\"/>\n",
       "<text text-anchor=\"start\" x=\"1191.88\" y=\"-40.2\" font-family=\"Helvetica,sans-Serif\" font-size=\"14.00\">squared_error = 0.0</text>\n",
       "<text text-anchor=\"start\" x=\"1215.88\" y=\"-23.7\" font-family=\"Helvetica,sans-Serif\" font-size=\"14.00\">samples = 1</text>\n",
       "<text text-anchor=\"start\" x=\"1199.75\" y=\"-7.2\" font-family=\"Helvetica,sans-Serif\" font-size=\"14.00\">value = 122392.0</text>\n",
       "</g>\n",
       "<!-- 12&#45;&gt;13 -->\n",
       "<g id=\"edge13\" class=\"edge\">\n",
       "<title>12&#45;&gt;13</title>\n",
       "<path fill=\"none\" stroke=\"black\" d=\"M1254.88,-93.21C1254.88,-85.35 1254.88,-77 1254.88,-69.03\"/>\n",
       "<polygon fill=\"black\" stroke=\"black\" points=\"1258.38,-69.24 1254.88,-59.24 1251.38,-69.24 1258.38,-69.24\"/>\n",
       "</g>\n",
       "<!-- 14 -->\n",
       "<g id=\"node15\" class=\"node\">\n",
       "<title>14</title>\n",
       "<path fill=\"#e5823a\" stroke=\"black\" d=\"M1473.88,-57.5C1473.88,-57.5 1355.88,-57.5 1355.88,-57.5 1349.88,-57.5 1343.88,-51.5 1343.88,-45.5 1343.88,-45.5 1343.88,-12 1343.88,-12 1343.88,-6 1349.88,0 1355.88,0 1355.88,0 1473.88,0 1473.88,0 1479.88,0 1485.88,-6 1485.88,-12 1485.88,-12 1485.88,-45.5 1485.88,-45.5 1485.88,-51.5 1479.88,-57.5 1473.88,-57.5\"/>\n",
       "<text text-anchor=\"start\" x=\"1351.88\" y=\"-40.2\" font-family=\"Helvetica,sans-Serif\" font-size=\"14.00\">squared_error = 0.0</text>\n",
       "<text text-anchor=\"start\" x=\"1375.88\" y=\"-23.7\" font-family=\"Helvetica,sans-Serif\" font-size=\"14.00\">samples = 1</text>\n",
       "<text text-anchor=\"start\" x=\"1359.75\" y=\"-7.2\" font-family=\"Helvetica,sans-Serif\" font-size=\"14.00\">value = 121873.0</text>\n",
       "</g>\n",
       "<!-- 12&#45;&gt;14 -->\n",
       "<g id=\"edge14\" class=\"edge\">\n",
       "<title>12&#45;&gt;14</title>\n",
       "<path fill=\"none\" stroke=\"black\" d=\"M1313.09,-93.21C1328.41,-83.66 1344.88,-73.39 1360.02,-63.95\"/>\n",
       "<polygon fill=\"black\" stroke=\"black\" points=\"1361.83,-66.95 1368.46,-58.69 1358.12,-61.01 1361.83,-66.95\"/>\n",
       "</g>\n",
       "<!-- \\n -->\n",
       "<g id=\"node16\" class=\"node\">\n",
       "<title>\\n</title>\n",
       "<path fill=\"black\" stroke=\"black\" d=\"M928.88,-368.5C928.88,-368.5 898.88,-368.5 898.88,-368.5 892.88,-368.5 886.88,-362.5 886.88,-356.5 886.88,-356.5 886.88,-344.5 886.88,-344.5 886.88,-338.5 892.88,-332.5 898.88,-332.5 898.88,-332.5 928.88,-332.5 928.88,-332.5 934.88,-332.5 940.88,-338.5 940.88,-344.5 940.88,-344.5 940.88,-356.5 940.88,-356.5 940.88,-362.5 934.88,-368.5 928.88,-368.5\"/>\n",
       "</g>\n",
       "</g>\n",
       "</svg>\n"
      ],
      "text/plain": [
       "<graphviz.sources.Source at 0x281e6f2dd90>"
      ]
     },
     "execution_count": 62,
     "metadata": {},
     "output_type": "execute_result"
    }
   ],
   "source": [
    "dot_data = export_graphviz(model5, out_file=None,\n",
    "                           feature_names=['Salary'], # Используем список с одним элементом для одного признака\n",
    "                           class_names=data['YearsExperience'].unique().tolist(),\n",
    "                           filled=True, rounded=True, special_characters=True)\n",
    "pydot_graph = pydotplus.graph_from_dot_data(dot_data)\n",
    "pydot_graph.set_size(10)\n",
    "gvz_graph = graphviz.Source(pydot_graph.to_string())\n",
    "gvz_graph"
   ]
  },
  {
   "cell_type": "code",
   "execution_count": 72,
   "id": "5a05f7c3",
   "metadata": {
    "colab": {
     "base_uri": "https://localhost:8080/",
     "height": 34
    },
    "id": "5a05f7c3",
    "outputId": "a8a3bf67-cee2-4517-94b0-a428b4f66b8f"
   },
   "outputs": [
    {
     "data": {
      "text/plain": [
       "'tree.png'"
      ]
     },
     "execution_count": 72,
     "metadata": {},
     "output_type": "execute_result"
    }
   ],
   "source": [
    "# Создание объекта Graphviz из строки DOT\n",
    "gvz_graph = graphviz.Source(dot_data)\n",
    "\n",
    "# Сохранение графа в файл PNG\n",
    "gvz_graph.render(filename='tree', format='png', cleanup=True)"
   ]
  },
  {
   "cell_type": "markdown",
   "id": "d7536ae6",
   "metadata": {
    "id": "d7536ae6"
   },
   "source": [
    "И с глубиной = 5:"
   ]
  },
  {
   "cell_type": "code",
   "execution_count": 68,
   "id": "3be928e2",
   "metadata": {
    "colab": {
     "base_uri": "https://localhost:8080/",
     "height": 172
    },
    "id": "3be928e2",
    "outputId": "b52213e9-de79-47b5-81e7-748636bd2238"
   },
   "outputs": [
    {
     "data": {
      "image/svg+xml": [
       "<?xml version=\"1.0\" encoding=\"UTF-8\" standalone=\"no\"?>\n",
       "<!DOCTYPE svg PUBLIC \"-//W3C//DTD SVG 1.1//EN\"\n",
       " \"http://www.w3.org/Graphics/SVG/1.1/DTD/svg11.dtd\">\n",
       "<!-- Generated by graphviz version 10.0.1 (20240210.2158)\n",
       " -->\n",
       "<!-- Title: Tree Pages: 1 -->\n",
       "<svg width=\"720pt\" height=\"259pt\"\n",
       " viewBox=\"0.00 0.00 720.00 259.16\" xmlns=\"http://www.w3.org/2000/svg\" xmlns:xlink=\"http://www.w3.org/1999/xlink\">\n",
       "<g id=\"graph0\" class=\"graph\" transform=\"scale(0.421053 0.421053) rotate(0) translate(4 611.5)\">\n",
       "<title>Tree</title>\n",
       "<polygon fill=\"white\" stroke=\"none\" points=\"-4,4 -4,-611.5 1706,-611.5 1706,4 -4,4\"/>\n",
       "<!-- 0 -->\n",
       "<g id=\"node1\" class=\"node\">\n",
       "<title>0</title>\n",
       "<path fill=\"#f4c9aa\" stroke=\"black\" d=\"M1042.25,-607.5C1042.25,-607.5 841.75,-607.5 841.75,-607.5 835.75,-607.5 829.75,-601.5 829.75,-595.5 829.75,-595.5 829.75,-545.5 829.75,-545.5 829.75,-539.5 835.75,-533.5 841.75,-533.5 841.75,-533.5 1042.25,-533.5 1042.25,-533.5 1048.25,-533.5 1054.25,-539.5 1054.25,-545.5 1054.25,-545.5 1054.25,-595.5 1054.25,-595.5 1054.25,-601.5 1048.25,-607.5 1042.25,-607.5\"/>\n",
       "<text text-anchor=\"start\" x=\"904.88\" y=\"-590.2\" font-family=\"Helvetica,sans-Serif\" font-size=\"14.00\">Salary ≤ 7.0</text>\n",
       "<text text-anchor=\"start\" x=\"837.75\" y=\"-573.7\" font-family=\"Helvetica,sans-Serif\" font-size=\"14.00\">squared_error = 794267582.322</text>\n",
       "<text text-anchor=\"start\" x=\"898.88\" y=\"-557.2\" font-family=\"Helvetica,sans-Serif\" font-size=\"14.00\">samples = 22</text>\n",
       "<text text-anchor=\"start\" x=\"882.75\" y=\"-540.7\" font-family=\"Helvetica,sans-Serif\" font-size=\"14.00\">value = 74011.364</text>\n",
       "</g>\n",
       "<!-- 1 -->\n",
       "<g id=\"node2\" class=\"node\">\n",
       "<title>1</title>\n",
       "<path fill=\"#f9e4d4\" stroke=\"black\" d=\"M876.25,-497.5C876.25,-497.5 675.75,-497.5 675.75,-497.5 669.75,-497.5 663.75,-491.5 663.75,-485.5 663.75,-485.5 663.75,-435.5 663.75,-435.5 663.75,-429.5 669.75,-423.5 675.75,-423.5 675.75,-423.5 876.25,-423.5 876.25,-423.5 882.25,-423.5 888.25,-429.5 888.25,-435.5 888.25,-435.5 888.25,-485.5 888.25,-485.5 888.25,-491.5 882.25,-497.5 876.25,-497.5\"/>\n",
       "<text text-anchor=\"start\" x=\"734.75\" y=\"-480.2\" font-family=\"Helvetica,sans-Serif\" font-size=\"14.00\">Salary ≤ 2.65</text>\n",
       "<text text-anchor=\"start\" x=\"671.75\" y=\"-463.7\" font-family=\"Helvetica,sans-Serif\" font-size=\"14.00\">squared_error = 129856478.027</text>\n",
       "<text text-anchor=\"start\" x=\"732.88\" y=\"-447.2\" font-family=\"Helvetica,sans-Serif\" font-size=\"14.00\">samples = 15</text>\n",
       "<text text-anchor=\"start\" x=\"725\" y=\"-430.7\" font-family=\"Helvetica,sans-Serif\" font-size=\"14.00\">value = 56081.2</text>\n",
       "</g>\n",
       "<!-- 0&#45;&gt;1 -->\n",
       "<g id=\"edge1\" class=\"edge\">\n",
       "<title>0&#45;&gt;1</title>\n",
       "<path fill=\"none\" stroke=\"black\" d=\"M886.26,-533.24C871.89,-523.89 856.29,-513.74 841.48,-504.1\"/>\n",
       "<polygon fill=\"black\" stroke=\"black\" points=\"843.43,-501.2 833.14,-498.68 839.61,-507.06 843.43,-501.2\"/>\n",
       "<text text-anchor=\"middle\" x=\"837.05\" y=\"-517.26\" font-family=\"Helvetica,sans-Serif\" font-size=\"14.00\">True</text>\n",
       "</g>\n",
       "<!-- 18 -->\n",
       "<g id=\"node19\" class=\"node\">\n",
       "<title>18</title>\n",
       "<path fill=\"#e89050\" stroke=\"black\" d=\"M1271.12,-497.5C1271.12,-497.5 1078.88,-497.5 1078.88,-497.5 1072.88,-497.5 1066.88,-491.5 1066.88,-485.5 1066.88,-485.5 1066.88,-435.5 1066.88,-435.5 1066.88,-429.5 1072.88,-423.5 1078.88,-423.5 1078.88,-423.5 1271.12,-423.5 1271.12,-423.5 1277.12,-423.5 1283.12,-429.5 1283.12,-435.5 1283.12,-435.5 1283.12,-485.5 1283.12,-485.5 1283.12,-491.5 1277.12,-497.5 1271.12,-497.5\"/>\n",
       "<text text-anchor=\"start\" x=\"1129.62\" y=\"-480.2\" font-family=\"Helvetica,sans-Serif\" font-size=\"14.00\">Salary ≤ 10.05</text>\n",
       "<text text-anchor=\"start\" x=\"1074.88\" y=\"-463.7\" font-family=\"Helvetica,sans-Serif\" font-size=\"14.00\">squared_error = 52863755.837</text>\n",
       "<text text-anchor=\"start\" x=\"1136\" y=\"-447.2\" font-family=\"Helvetica,sans-Serif\" font-size=\"14.00\">samples = 7</text>\n",
       "<text text-anchor=\"start\" x=\"1111.62\" y=\"-430.7\" font-family=\"Helvetica,sans-Serif\" font-size=\"14.00\">value = 112433.143</text>\n",
       "</g>\n",
       "<!-- 0&#45;&gt;18 -->\n",
       "<g id=\"edge18\" class=\"edge\">\n",
       "<title>0&#45;&gt;18</title>\n",
       "<path fill=\"none\" stroke=\"black\" d=\"M1020.56,-533.09C1041.66,-523.31 1064.62,-512.66 1086.23,-502.65\"/>\n",
       "<polygon fill=\"black\" stroke=\"black\" points=\"1087.41,-505.96 1095.01,-498.58 1084.47,-499.61 1087.41,-505.96\"/>\n",
       "<text text-anchor=\"middle\" x=\"1087.78\" y=\"-516.36\" font-family=\"Helvetica,sans-Serif\" font-size=\"14.00\">False</text>\n",
       "</g>\n",
       "<!-- 2 -->\n",
       "<g id=\"node3\" class=\"node\">\n",
       "<title>2</title>\n",
       "<path fill=\"#fefaf8\" stroke=\"black\" d=\"M591,-387.5C591,-387.5 407,-387.5 407,-387.5 401,-387.5 395,-381.5 395,-375.5 395,-375.5 395,-325.5 395,-325.5 395,-319.5 401,-313.5 407,-313.5 407,-313.5 591,-313.5 591,-313.5 597,-313.5 603,-319.5 603,-325.5 603,-325.5 603,-375.5 603,-375.5 603,-381.5 597,-387.5 591,-387.5\"/>\n",
       "<text text-anchor=\"start\" x=\"461.88\" y=\"-370.2\" font-family=\"Helvetica,sans-Serif\" font-size=\"14.00\">Salary ≤ 1.5</text>\n",
       "<text text-anchor=\"start\" x=\"403\" y=\"-353.7\" font-family=\"Helvetica,sans-Serif\" font-size=\"14.00\">squared_error = 10395422.75</text>\n",
       "<text text-anchor=\"start\" x=\"460\" y=\"-337.2\" font-family=\"Helvetica,sans-Serif\" font-size=\"14.00\">samples = 4</text>\n",
       "<text text-anchor=\"start\" x=\"448\" y=\"-320.7\" font-family=\"Helvetica,sans-Serif\" font-size=\"14.00\">value = 40793.5</text>\n",
       "</g>\n",
       "<!-- 1&#45;&gt;2 -->\n",
       "<g id=\"edge2\" class=\"edge\">\n",
       "<title>1&#45;&gt;2</title>\n",
       "<path fill=\"none\" stroke=\"black\" d=\"M682.61,-423.09C657.07,-413.13 629.23,-402.28 603.14,-392.1\"/>\n",
       "<polygon fill=\"black\" stroke=\"black\" points=\"604.46,-388.86 593.87,-388.49 601.91,-395.38 604.46,-388.86\"/>\n",
       "</g>\n",
       "<!-- 9 -->\n",
       "<g id=\"node10\" class=\"node\">\n",
       "<title>9</title>\n",
       "<path fill=\"#f8dbc7\" stroke=\"black\" d=\"M872.12,-387.5C872.12,-387.5 679.88,-387.5 679.88,-387.5 673.88,-387.5 667.88,-381.5 667.88,-375.5 667.88,-375.5 667.88,-325.5 667.88,-325.5 667.88,-319.5 673.88,-313.5 679.88,-313.5 679.88,-313.5 872.12,-313.5 872.12,-313.5 878.12,-313.5 884.12,-319.5 884.12,-325.5 884.12,-325.5 884.12,-375.5 884.12,-375.5 884.12,-381.5 878.12,-387.5 872.12,-387.5\"/>\n",
       "<text text-anchor=\"start\" x=\"738.88\" y=\"-370.2\" font-family=\"Helvetica,sans-Serif\" font-size=\"14.00\">Salary ≤ 5.6</text>\n",
       "<text text-anchor=\"start\" x=\"675.88\" y=\"-353.7\" font-family=\"Helvetica,sans-Serif\" font-size=\"14.00\">squared_error = 57405735.504</text>\n",
       "<text text-anchor=\"start\" x=\"732.88\" y=\"-337.2\" font-family=\"Helvetica,sans-Serif\" font-size=\"14.00\">samples = 11</text>\n",
       "<text text-anchor=\"start\" x=\"716.75\" y=\"-320.7\" font-family=\"Helvetica,sans-Serif\" font-size=\"14.00\">value = 61640.364</text>\n",
       "</g>\n",
       "<!-- 1&#45;&gt;9 -->\n",
       "<g id=\"edge9\" class=\"edge\">\n",
       "<title>1&#45;&gt;9</title>\n",
       "<path fill=\"none\" stroke=\"black\" d=\"M776,-423.24C776,-415.49 776,-407.2 776,-399.1\"/>\n",
       "<polygon fill=\"black\" stroke=\"black\" points=\"779.5,-399.36 776,-389.36 772.5,-399.36 779.5,-399.36\"/>\n",
       "</g>\n",
       "<!-- 3 -->\n",
       "<g id=\"node4\" class=\"node\">\n",
       "<title>3</title>\n",
       "<path fill=\"#fdf7f3\" stroke=\"black\" d=\"M318.88,-277.5C318.88,-277.5 143.12,-277.5 143.12,-277.5 137.12,-277.5 131.12,-271.5 131.12,-265.5 131.12,-265.5 131.12,-215.5 131.12,-215.5 131.12,-209.5 137.12,-203.5 143.12,-203.5 143.12,-203.5 318.88,-203.5 318.88,-203.5 324.88,-203.5 330.88,-209.5 330.88,-215.5 330.88,-215.5 330.88,-265.5 330.88,-265.5 330.88,-271.5 324.88,-277.5 318.88,-277.5\"/>\n",
       "<text text-anchor=\"start\" x=\"193.88\" y=\"-260.2\" font-family=\"Helvetica,sans-Serif\" font-size=\"14.00\">Salary ≤ 1.3</text>\n",
       "<text text-anchor=\"start\" x=\"139.12\" y=\"-243.7\" font-family=\"Helvetica,sans-Serif\" font-size=\"14.00\">squared_error = 11771761.0</text>\n",
       "<text text-anchor=\"start\" x=\"192\" y=\"-227.2\" font-family=\"Helvetica,sans-Serif\" font-size=\"14.00\">samples = 2</text>\n",
       "<text text-anchor=\"start\" x=\"180\" y=\"-210.7\" font-family=\"Helvetica,sans-Serif\" font-size=\"14.00\">value = 42775.0</text>\n",
       "</g>\n",
       "<!-- 2&#45;&gt;3 -->\n",
       "<g id=\"edge3\" class=\"edge\">\n",
       "<title>2&#45;&gt;3</title>\n",
       "<path fill=\"none\" stroke=\"black\" d=\"M408.64,-313.09C384.04,-303.17 357.24,-292.37 332.09,-282.24\"/>\n",
       "<polygon fill=\"black\" stroke=\"black\" points=\"333.41,-279 322.83,-278.5 330.79,-285.49 333.41,-279\"/>\n",
       "</g>\n",
       "<!-- 6 -->\n",
       "<g id=\"node7\" class=\"node\">\n",
       "<title>6</title>\n",
       "<path fill=\"#fffdfc\" stroke=\"black\" d=\"M582.75,-277.5C582.75,-277.5 415.25,-277.5 415.25,-277.5 409.25,-277.5 403.25,-271.5 403.25,-265.5 403.25,-265.5 403.25,-215.5 403.25,-215.5 403.25,-209.5 409.25,-203.5 415.25,-203.5 415.25,-203.5 582.75,-203.5 582.75,-203.5 588.75,-203.5 594.75,-209.5 594.75,-215.5 594.75,-215.5 594.75,-265.5 594.75,-265.5 594.75,-271.5 588.75,-277.5 582.75,-277.5\"/>\n",
       "<text text-anchor=\"start\" x=\"457.75\" y=\"-260.2\" font-family=\"Helvetica,sans-Serif\" font-size=\"14.00\">Salary ≤ 1.95</text>\n",
       "<text text-anchor=\"start\" x=\"411.25\" y=\"-243.7\" font-family=\"Helvetica,sans-Serif\" font-size=\"14.00\">squared_error = 1166400.0</text>\n",
       "<text text-anchor=\"start\" x=\"460\" y=\"-227.2\" font-family=\"Helvetica,sans-Serif\" font-size=\"14.00\">samples = 2</text>\n",
       "<text text-anchor=\"start\" x=\"448\" y=\"-210.7\" font-family=\"Helvetica,sans-Serif\" font-size=\"14.00\">value = 38812.0</text>\n",
       "</g>\n",
       "<!-- 2&#45;&gt;6 -->\n",
       "<g id=\"edge6\" class=\"edge\">\n",
       "<title>2&#45;&gt;6</title>\n",
       "<path fill=\"none\" stroke=\"black\" d=\"M499,-313.24C499,-305.49 499,-297.2 499,-289.1\"/>\n",
       "<polygon fill=\"black\" stroke=\"black\" points=\"502.5,-289.36 499,-279.36 495.5,-289.36 502.5,-289.36\"/>\n",
       "</g>\n",
       "<!-- 4 -->\n",
       "<g id=\"node5\" class=\"node\">\n",
       "<title>4</title>\n",
       "<path fill=\"#fffdfb\" stroke=\"black\" d=\"M130,-159.25C130,-159.25 12,-159.25 12,-159.25 6,-159.25 0,-153.25 0,-147.25 0,-147.25 0,-113.75 0,-113.75 0,-107.75 6,-101.75 12,-101.75 12,-101.75 130,-101.75 130,-101.75 136,-101.75 142,-107.75 142,-113.75 142,-113.75 142,-147.25 142,-147.25 142,-153.25 136,-159.25 130,-159.25\"/>\n",
       "<text text-anchor=\"start\" x=\"8\" y=\"-141.95\" font-family=\"Helvetica,sans-Serif\" font-size=\"14.00\">squared_error = 0.0</text>\n",
       "<text text-anchor=\"start\" x=\"32\" y=\"-125.45\" font-family=\"Helvetica,sans-Serif\" font-size=\"14.00\">samples = 1</text>\n",
       "<text text-anchor=\"start\" x=\"20\" y=\"-108.95\" font-family=\"Helvetica,sans-Serif\" font-size=\"14.00\">value = 39344.0</text>\n",
       "</g>\n",
       "<!-- 3&#45;&gt;4 -->\n",
       "<g id=\"edge4\" class=\"edge\">\n",
       "<title>3&#45;&gt;4</title>\n",
       "<path fill=\"none\" stroke=\"black\" d=\"M177.28,-203.24C159.51,-191.24 139.79,-177.93 122.21,-166.07\"/>\n",
       "<polygon fill=\"black\" stroke=\"black\" points=\"124.19,-163.18 113.95,-160.49 120.28,-168.98 124.19,-163.18\"/>\n",
       "</g>\n",
       "<!-- 5 -->\n",
       "<g id=\"node6\" class=\"node\">\n",
       "<title>5</title>\n",
       "<path fill=\"#fcf2eb\" stroke=\"black\" d=\"M290,-159.25C290,-159.25 172,-159.25 172,-159.25 166,-159.25 160,-153.25 160,-147.25 160,-147.25 160,-113.75 160,-113.75 160,-107.75 166,-101.75 172,-101.75 172,-101.75 290,-101.75 290,-101.75 296,-101.75 302,-107.75 302,-113.75 302,-113.75 302,-147.25 302,-147.25 302,-153.25 296,-159.25 290,-159.25\"/>\n",
       "<text text-anchor=\"start\" x=\"168\" y=\"-141.95\" font-family=\"Helvetica,sans-Serif\" font-size=\"14.00\">squared_error = 0.0</text>\n",
       "<text text-anchor=\"start\" x=\"192\" y=\"-125.45\" font-family=\"Helvetica,sans-Serif\" font-size=\"14.00\">samples = 1</text>\n",
       "<text text-anchor=\"start\" x=\"180\" y=\"-108.95\" font-family=\"Helvetica,sans-Serif\" font-size=\"14.00\">value = 46206.0</text>\n",
       "</g>\n",
       "<!-- 3&#45;&gt;5 -->\n",
       "<g id=\"edge5\" class=\"edge\">\n",
       "<title>3&#45;&gt;5</title>\n",
       "<path fill=\"none\" stroke=\"black\" d=\"M231,-203.24C231,-192.91 231,-181.6 231,-171.09\"/>\n",
       "<polygon fill=\"black\" stroke=\"black\" points=\"234.5,-171.16 231,-161.16 227.5,-171.16 234.5,-171.16\"/>\n",
       "</g>\n",
       "<!-- 7 -->\n",
       "<g id=\"node8\" class=\"node\">\n",
       "<title>7</title>\n",
       "<path fill=\"#ffffff\" stroke=\"black\" d=\"M450,-159.25C450,-159.25 332,-159.25 332,-159.25 326,-159.25 320,-153.25 320,-147.25 320,-147.25 320,-113.75 320,-113.75 320,-107.75 326,-101.75 332,-101.75 332,-101.75 450,-101.75 450,-101.75 456,-101.75 462,-107.75 462,-113.75 462,-113.75 462,-147.25 462,-147.25 462,-153.25 456,-159.25 450,-159.25\"/>\n",
       "<text text-anchor=\"start\" x=\"328\" y=\"-141.95\" font-family=\"Helvetica,sans-Serif\" font-size=\"14.00\">squared_error = 0.0</text>\n",
       "<text text-anchor=\"start\" x=\"352\" y=\"-125.45\" font-family=\"Helvetica,sans-Serif\" font-size=\"14.00\">samples = 1</text>\n",
       "<text text-anchor=\"start\" x=\"340\" y=\"-108.95\" font-family=\"Helvetica,sans-Serif\" font-size=\"14.00\">value = 37732.0</text>\n",
       "</g>\n",
       "<!-- 6&#45;&gt;7 -->\n",
       "<g id=\"edge7\" class=\"edge\">\n",
       "<title>6&#45;&gt;7</title>\n",
       "<path fill=\"none\" stroke=\"black\" d=\"M462.74,-203.24C451.3,-191.8 438.66,-179.16 427.22,-167.72\"/>\n",
       "<polygon fill=\"black\" stroke=\"black\" points=\"429.76,-165.31 420.21,-160.71 424.81,-170.26 429.76,-165.31\"/>\n",
       "</g>\n",
       "<!-- 8 -->\n",
       "<g id=\"node9\" class=\"node\">\n",
       "<title>8</title>\n",
       "<path fill=\"#fefcfa\" stroke=\"black\" d=\"M610,-159.25C610,-159.25 492,-159.25 492,-159.25 486,-159.25 480,-153.25 480,-147.25 480,-147.25 480,-113.75 480,-113.75 480,-107.75 486,-101.75 492,-101.75 492,-101.75 610,-101.75 610,-101.75 616,-101.75 622,-107.75 622,-113.75 622,-113.75 622,-147.25 622,-147.25 622,-153.25 616,-159.25 610,-159.25\"/>\n",
       "<text text-anchor=\"start\" x=\"488\" y=\"-141.95\" font-family=\"Helvetica,sans-Serif\" font-size=\"14.00\">squared_error = 0.0</text>\n",
       "<text text-anchor=\"start\" x=\"512\" y=\"-125.45\" font-family=\"Helvetica,sans-Serif\" font-size=\"14.00\">samples = 1</text>\n",
       "<text text-anchor=\"start\" x=\"500\" y=\"-108.95\" font-family=\"Helvetica,sans-Serif\" font-size=\"14.00\">value = 39892.0</text>\n",
       "</g>\n",
       "<!-- 6&#45;&gt;8 -->\n",
       "<g id=\"edge8\" class=\"edge\">\n",
       "<title>6&#45;&gt;8</title>\n",
       "<path fill=\"none\" stroke=\"black\" d=\"M516.46,-203.24C521.65,-192.46 527.34,-180.63 532.59,-169.74\"/>\n",
       "<polygon fill=\"black\" stroke=\"black\" points=\"535.61,-171.53 536.79,-161.01 529.3,-168.5 535.61,-171.53\"/>\n",
       "</g>\n",
       "<!-- 10 -->\n",
       "<g id=\"node11\" class=\"node\">\n",
       "<title>10</title>\n",
       "<path fill=\"#f8decc\" stroke=\"black\" d=\"M831.88,-277.5C831.88,-277.5 656.12,-277.5 656.12,-277.5 650.12,-277.5 644.12,-271.5 644.12,-265.5 644.12,-265.5 644.12,-215.5 644.12,-215.5 644.12,-209.5 650.12,-203.5 656.12,-203.5 656.12,-203.5 831.88,-203.5 831.88,-203.5 837.88,-203.5 843.88,-209.5 843.88,-215.5 843.88,-215.5 843.88,-265.5 843.88,-265.5 843.88,-271.5 837.88,-277.5 831.88,-277.5\"/>\n",
       "<text text-anchor=\"start\" x=\"706.88\" y=\"-260.2\" font-family=\"Helvetica,sans-Serif\" font-size=\"14.00\">Salary ≤ 4.6</text>\n",
       "<text text-anchor=\"start\" x=\"652.12\" y=\"-243.7\" font-family=\"Helvetica,sans-Serif\" font-size=\"14.00\">squared_error = 20353907.6</text>\n",
       "<text text-anchor=\"start\" x=\"700.88\" y=\"-227.2\" font-family=\"Helvetica,sans-Serif\" font-size=\"14.00\">samples = 10</text>\n",
       "<text text-anchor=\"start\" x=\"693\" y=\"-210.7\" font-family=\"Helvetica,sans-Serif\" font-size=\"14.00\">value = 59668.0</text>\n",
       "</g>\n",
       "<!-- 9&#45;&gt;10 -->\n",
       "<g id=\"edge10\" class=\"edge\">\n",
       "<title>9&#45;&gt;10</title>\n",
       "<path fill=\"none\" stroke=\"black\" d=\"M765.26,-313.24C762.93,-305.4 760.45,-297 758.02,-288.82\"/>\n",
       "<polygon fill=\"black\" stroke=\"black\" points=\"761.4,-287.9 755.2,-279.3 754.69,-289.88 761.4,-287.9\"/>\n",
       "</g>\n",
       "<!-- 17 -->\n",
       "<g id=\"node18\" class=\"node\">\n",
       "<title>17</title>\n",
       "<path fill=\"#f2be99\" stroke=\"black\" d=\"M992,-269.25C992,-269.25 874,-269.25 874,-269.25 868,-269.25 862,-263.25 862,-257.25 862,-257.25 862,-223.75 862,-223.75 862,-217.75 868,-211.75 874,-211.75 874,-211.75 992,-211.75 992,-211.75 998,-211.75 1004,-217.75 1004,-223.75 1004,-223.75 1004,-257.25 1004,-257.25 1004,-263.25 998,-269.25 992,-269.25\"/>\n",
       "<text text-anchor=\"start\" x=\"870\" y=\"-251.95\" font-family=\"Helvetica,sans-Serif\" font-size=\"14.00\">squared_error = 0.0</text>\n",
       "<text text-anchor=\"start\" x=\"894\" y=\"-235.45\" font-family=\"Helvetica,sans-Serif\" font-size=\"14.00\">samples = 1</text>\n",
       "<text text-anchor=\"start\" x=\"882\" y=\"-218.95\" font-family=\"Helvetica,sans-Serif\" font-size=\"14.00\">value = 81364.0</text>\n",
       "</g>\n",
       "<!-- 9&#45;&gt;17 -->\n",
       "<g id=\"edge17\" class=\"edge\">\n",
       "<title>9&#45;&gt;17</title>\n",
       "<path fill=\"none\" stroke=\"black\" d=\"M828.72,-313.24C846.15,-301.24 865.5,-287.93 882.75,-276.07\"/>\n",
       "<polygon fill=\"black\" stroke=\"black\" points=\"884.59,-279.05 890.84,-270.5 880.62,-273.28 884.59,-279.05\"/>\n",
       "</g>\n",
       "<!-- 11 -->\n",
       "<g id=\"node12\" class=\"node\">\n",
       "<title>11</title>\n",
       "<path fill=\"#f9e1d0\" stroke=\"black\" d=\"M836,-167.5C836,-167.5 652,-167.5 652,-167.5 646,-167.5 640,-161.5 640,-155.5 640,-155.5 640,-105.5 640,-105.5 640,-99.5 646,-93.5 652,-93.5 652,-93.5 836,-93.5 836,-93.5 842,-93.5 848,-99.5 848,-105.5 848,-105.5 848,-155.5 848,-155.5 848,-161.5 842,-167.5 836,-167.5\"/>\n",
       "<text text-anchor=\"start\" x=\"702.75\" y=\"-150.2\" font-family=\"Helvetica,sans-Serif\" font-size=\"14.00\">Salary ≤ 3.55</text>\n",
       "<text text-anchor=\"start\" x=\"648\" y=\"-133.7\" font-family=\"Helvetica,sans-Serif\" font-size=\"14.00\">squared_error = 8486125.609</text>\n",
       "<text text-anchor=\"start\" x=\"705\" y=\"-117.2\" font-family=\"Helvetica,sans-Serif\" font-size=\"14.00\">samples = 8</text>\n",
       "<text text-anchor=\"start\" x=\"684.75\" y=\"-100.7\" font-family=\"Helvetica,sans-Serif\" font-size=\"14.00\">value = 57838.875</text>\n",
       "</g>\n",
       "<!-- 10&#45;&gt;11 -->\n",
       "<g id=\"edge11\" class=\"edge\">\n",
       "<title>10&#45;&gt;11</title>\n",
       "<path fill=\"none\" stroke=\"black\" d=\"M744,-203.24C744,-195.49 744,-187.2 744,-179.1\"/>\n",
       "<polygon fill=\"black\" stroke=\"black\" points=\"747.5,-179.36 744,-169.36 740.5,-179.36 747.5,-179.36\"/>\n",
       "</g>\n",
       "<!-- 14 -->\n",
       "<g id=\"node15\" class=\"node\">\n",
       "<title>14</title>\n",
       "<path fill=\"#f6d3bb\" stroke=\"black\" d=\"M1045.75,-167.5C1045.75,-167.5 878.25,-167.5 878.25,-167.5 872.25,-167.5 866.25,-161.5 866.25,-155.5 866.25,-155.5 866.25,-105.5 866.25,-105.5 866.25,-99.5 872.25,-93.5 878.25,-93.5 878.25,-93.5 1045.75,-93.5 1045.75,-93.5 1051.75,-93.5 1057.75,-99.5 1057.75,-105.5 1057.75,-105.5 1057.75,-155.5 1057.75,-155.5 1057.75,-161.5 1051.75,-167.5 1045.75,-167.5\"/>\n",
       "<text text-anchor=\"start\" x=\"924.88\" y=\"-150.2\" font-family=\"Helvetica,sans-Serif\" font-size=\"14.00\">Salary ≤ 5.1</text>\n",
       "<text text-anchor=\"start\" x=\"874.25\" y=\"-133.7\" font-family=\"Helvetica,sans-Serif\" font-size=\"14.00\">squared_error = 911070.25</text>\n",
       "<text text-anchor=\"start\" x=\"923\" y=\"-117.2\" font-family=\"Helvetica,sans-Serif\" font-size=\"14.00\">samples = 2</text>\n",
       "<text text-anchor=\"start\" x=\"911\" y=\"-100.7\" font-family=\"Helvetica,sans-Serif\" font-size=\"14.00\">value = 66984.5</text>\n",
       "</g>\n",
       "<!-- 10&#45;&gt;14 -->\n",
       "<g id=\"edge14\" class=\"edge\">\n",
       "<title>10&#45;&gt;14</title>\n",
       "<path fill=\"none\" stroke=\"black\" d=\"M817.5,-203.09C837.06,-193.4 858.34,-182.86 878.4,-172.92\"/>\n",
       "<polygon fill=\"black\" stroke=\"black\" points=\"879.68,-176.19 887.09,-168.61 876.58,-169.91 879.68,-176.19\"/>\n",
       "</g>\n",
       "<!-- 12 -->\n",
       "<g id=\"node13\" class=\"node\">\n",
       "<title>12</title>\n",
       "<path fill=\"#f8dfcd\" stroke=\"black\" d=\"M621,-57.5C621,-57.5 437,-57.5 437,-57.5 431,-57.5 425,-51.5 425,-45.5 425,-45.5 425,-12 425,-12 425,-6 431,0 437,0 437,0 621,0 621,0 627,0 633,-6 633,-12 633,-12 633,-45.5 633,-45.5 633,-51.5 627,-57.5 621,-57.5\"/>\n",
       "<text text-anchor=\"start\" x=\"433\" y=\"-40.2\" font-family=\"Helvetica,sans-Serif\" font-size=\"14.00\">squared_error = 14313358.25</text>\n",
       "<text text-anchor=\"start\" x=\"490\" y=\"-23.7\" font-family=\"Helvetica,sans-Serif\" font-size=\"14.00\">samples = 4</text>\n",
       "<text text-anchor=\"start\" x=\"478\" y=\"-7.2\" font-family=\"Helvetica,sans-Serif\" font-size=\"14.00\">value = 58921.5</text>\n",
       "</g>\n",
       "<!-- 11&#45;&gt;12 -->\n",
       "<g id=\"edge12\" class=\"edge\">\n",
       "<title>11&#45;&gt;12</title>\n",
       "<path fill=\"none\" stroke=\"black\" d=\"M665.47,-93.06C644.12,-83.16 621.13,-72.49 600.22,-62.79\"/>\n",
       "<polygon fill=\"black\" stroke=\"black\" points=\"601.73,-59.63 591.18,-58.6 598.78,-65.98 601.73,-59.63\"/>\n",
       "</g>\n",
       "<!-- 13 -->\n",
       "<g id=\"node14\" class=\"node\">\n",
       "<title>13</title>\n",
       "<path fill=\"#f9e3d3\" stroke=\"black\" d=\"M838.88,-57.5C838.88,-57.5 663.12,-57.5 663.12,-57.5 657.12,-57.5 651.12,-51.5 651.12,-45.5 651.12,-45.5 651.12,-12 651.12,-12 651.12,-6 657.12,0 663.12,0 663.12,0 838.88,0 838.88,0 844.88,0 850.88,-6 850.88,-12 850.88,-12 850.88,-45.5 850.88,-45.5 850.88,-51.5 844.88,-57.5 838.88,-57.5\"/>\n",
       "<text text-anchor=\"start\" x=\"659.12\" y=\"-40.2\" font-family=\"Helvetica,sans-Serif\" font-size=\"14.00\">squared_error = 314739.188</text>\n",
       "<text text-anchor=\"start\" x=\"712\" y=\"-23.7\" font-family=\"Helvetica,sans-Serif\" font-size=\"14.00\">samples = 4</text>\n",
       "<text text-anchor=\"start\" x=\"695.88\" y=\"-7.2\" font-family=\"Helvetica,sans-Serif\" font-size=\"14.00\">value = 56756.25</text>\n",
       "</g>\n",
       "<!-- 11&#45;&gt;13 -->\n",
       "<g id=\"edge13\" class=\"edge\">\n",
       "<title>11&#45;&gt;13</title>\n",
       "<path fill=\"none\" stroke=\"black\" d=\"M746.55,-93.21C747.1,-85.35 747.68,-77 748.24,-69.03\"/>\n",
       "<polygon fill=\"black\" stroke=\"black\" points=\"751.72,-69.46 748.93,-59.24 744.74,-68.97 751.72,-69.46\"/>\n",
       "</g>\n",
       "<!-- 15 -->\n",
       "<g id=\"node16\" class=\"node\">\n",
       "<title>15</title>\n",
       "<path fill=\"#f6d2b8\" stroke=\"black\" d=\"M1013,-57.5C1013,-57.5 895,-57.5 895,-57.5 889,-57.5 883,-51.5 883,-45.5 883,-45.5 883,-12 883,-12 883,-6 889,0 895,0 895,0 1013,0 1013,0 1019,0 1025,-6 1025,-12 1025,-12 1025,-45.5 1025,-45.5 1025,-51.5 1019,-57.5 1013,-57.5\"/>\n",
       "<text text-anchor=\"start\" x=\"891\" y=\"-40.2\" font-family=\"Helvetica,sans-Serif\" font-size=\"14.00\">squared_error = 0.0</text>\n",
       "<text text-anchor=\"start\" x=\"915\" y=\"-23.7\" font-family=\"Helvetica,sans-Serif\" font-size=\"14.00\">samples = 1</text>\n",
       "<text text-anchor=\"start\" x=\"903\" y=\"-7.2\" font-family=\"Helvetica,sans-Serif\" font-size=\"14.00\">value = 67939.0</text>\n",
       "</g>\n",
       "<!-- 14&#45;&gt;15 -->\n",
       "<g id=\"edge15\" class=\"edge\">\n",
       "<title>14&#45;&gt;15</title>\n",
       "<path fill=\"none\" stroke=\"black\" d=\"M959.09,-93.21C958.46,-85.35 957.79,-77 957.15,-69.03\"/>\n",
       "<polygon fill=\"black\" stroke=\"black\" points=\"960.65,-68.92 956.36,-59.24 953.68,-69.48 960.65,-68.92\"/>\n",
       "</g>\n",
       "<!-- 16 -->\n",
       "<g id=\"node17\" class=\"node\">\n",
       "<title>16</title>\n",
       "<path fill=\"#f6d5bd\" stroke=\"black\" d=\"M1173,-57.5C1173,-57.5 1055,-57.5 1055,-57.5 1049,-57.5 1043,-51.5 1043,-45.5 1043,-45.5 1043,-12 1043,-12 1043,-6 1049,0 1055,0 1055,0 1173,0 1173,0 1179,0 1185,-6 1185,-12 1185,-12 1185,-45.5 1185,-45.5 1185,-51.5 1179,-57.5 1173,-57.5\"/>\n",
       "<text text-anchor=\"start\" x=\"1051\" y=\"-40.2\" font-family=\"Helvetica,sans-Serif\" font-size=\"14.00\">squared_error = 0.0</text>\n",
       "<text text-anchor=\"start\" x=\"1075\" y=\"-23.7\" font-family=\"Helvetica,sans-Serif\" font-size=\"14.00\">samples = 1</text>\n",
       "<text text-anchor=\"start\" x=\"1063\" y=\"-7.2\" font-family=\"Helvetica,sans-Serif\" font-size=\"14.00\">value = 66030.0</text>\n",
       "</g>\n",
       "<!-- 14&#45;&gt;16 -->\n",
       "<g id=\"edge16\" class=\"edge\">\n",
       "<title>14&#45;&gt;16</title>\n",
       "<path fill=\"none\" stroke=\"black\" d=\"M1017.31,-93.21C1031.93,-83.61 1047.66,-73.29 1062.09,-63.81\"/>\n",
       "<polygon fill=\"black\" stroke=\"black\" points=\"1063.66,-66.97 1070.1,-58.56 1059.82,-61.12 1063.66,-66.97\"/>\n",
       "</g>\n",
       "<!-- 19 -->\n",
       "<g id=\"node20\" class=\"node\">\n",
       "<title>19</title>\n",
       "<path fill=\"#e99659\" stroke=\"black\" d=\"M1267,-387.5C1267,-387.5 1083,-387.5 1083,-387.5 1077,-387.5 1071,-381.5 1071,-375.5 1071,-375.5 1071,-325.5 1071,-325.5 1071,-319.5 1077,-313.5 1083,-313.5 1083,-313.5 1267,-313.5 1267,-313.5 1273,-313.5 1279,-319.5 1279,-325.5 1279,-325.5 1279,-375.5 1279,-375.5 1279,-381.5 1273,-387.5 1267,-387.5\"/>\n",
       "<text text-anchor=\"start\" x=\"1133.75\" y=\"-370.2\" font-family=\"Helvetica,sans-Serif\" font-size=\"14.00\">Salary ≤ 8.15</text>\n",
       "<text text-anchor=\"start\" x=\"1079\" y=\"-353.7\" font-family=\"Helvetica,sans-Serif\" font-size=\"14.00\">squared_error = 21298905.84</text>\n",
       "<text text-anchor=\"start\" x=\"1136\" y=\"-337.2\" font-family=\"Helvetica,sans-Serif\" font-size=\"14.00\">samples = 5</text>\n",
       "<text text-anchor=\"start\" x=\"1119.88\" y=\"-320.7\" font-family=\"Helvetica,sans-Serif\" font-size=\"14.00\">value = 108553.4</text>\n",
       "</g>\n",
       "<!-- 18&#45;&gt;19 -->\n",
       "<g id=\"edge19\" class=\"edge\">\n",
       "<title>18&#45;&gt;19</title>\n",
       "<path fill=\"none\" stroke=\"black\" d=\"M1175,-423.24C1175,-415.49 1175,-407.2 1175,-399.1\"/>\n",
       "<polygon fill=\"black\" stroke=\"black\" points=\"1178.5,-399.36 1175,-389.36 1171.5,-399.36 1178.5,-399.36\"/>\n",
       "</g>\n",
       "<!-- 26 -->\n",
       "<g id=\"node27\" class=\"node\">\n",
       "<title>26</title>\n",
       "<path fill=\"#e5813a\" stroke=\"black\" d=\"M1550.62,-387.5C1550.62,-387.5 1391.38,-387.5 1391.38,-387.5 1385.38,-387.5 1379.38,-381.5 1379.38,-375.5 1379.38,-375.5 1379.38,-325.5 1379.38,-325.5 1379.38,-319.5 1385.38,-313.5 1391.38,-313.5 1391.38,-313.5 1550.62,-313.5 1550.62,-313.5 1556.62,-313.5 1562.62,-319.5 1562.62,-325.5 1562.62,-325.5 1562.62,-375.5 1562.62,-375.5 1562.62,-381.5 1556.62,-387.5 1550.62,-387.5\"/>\n",
       "<text text-anchor=\"start\" x=\"1429.75\" y=\"-370.2\" font-family=\"Helvetica,sans-Serif\" font-size=\"14.00\">Salary ≤ 10.5</text>\n",
       "<text text-anchor=\"start\" x=\"1387.38\" y=\"-353.7\" font-family=\"Helvetica,sans-Serif\" font-size=\"14.00\">squared_error = 67340.25</text>\n",
       "<text text-anchor=\"start\" x=\"1432\" y=\"-337.2\" font-family=\"Helvetica,sans-Serif\" font-size=\"14.00\">samples = 2</text>\n",
       "<text text-anchor=\"start\" x=\"1415.88\" y=\"-320.7\" font-family=\"Helvetica,sans-Serif\" font-size=\"14.00\">value = 122132.5</text>\n",
       "</g>\n",
       "<!-- 18&#45;&gt;26 -->\n",
       "<g id=\"edge26\" class=\"edge\">\n",
       "<title>18&#45;&gt;26</title>\n",
       "<path fill=\"none\" stroke=\"black\" d=\"M1274.8,-423.09C1304.98,-412.08 1338.15,-399.97 1368.5,-388.9\"/>\n",
       "<polygon fill=\"black\" stroke=\"black\" points=\"1369.5,-392.26 1377.69,-385.55 1367.1,-385.69 1369.5,-392.26\"/>\n",
       "</g>\n",
       "<!-- 20 -->\n",
       "<g id=\"node21\" class=\"node\">\n",
       "<title>20</title>\n",
       "<path fill=\"#eba06a\" stroke=\"black\" d=\"M1152,-269.25C1152,-269.25 1034,-269.25 1034,-269.25 1028,-269.25 1022,-263.25 1022,-257.25 1022,-257.25 1022,-223.75 1022,-223.75 1022,-217.75 1028,-211.75 1034,-211.75 1034,-211.75 1152,-211.75 1152,-211.75 1158,-211.75 1164,-217.75 1164,-223.75 1164,-223.75 1164,-257.25 1164,-257.25 1164,-263.25 1158,-269.25 1152,-269.25\"/>\n",
       "<text text-anchor=\"start\" x=\"1030\" y=\"-251.95\" font-family=\"Helvetica,sans-Serif\" font-size=\"14.00\">squared_error = 0.0</text>\n",
       "<text text-anchor=\"start\" x=\"1054\" y=\"-235.45\" font-family=\"Helvetica,sans-Serif\" font-size=\"14.00\">samples = 1</text>\n",
       "<text text-anchor=\"start\" x=\"1037.88\" y=\"-218.95\" font-family=\"Helvetica,sans-Serif\" font-size=\"14.00\">value = 101303.0</text>\n",
       "</g>\n",
       "<!-- 19&#45;&gt;20 -->\n",
       "<g id=\"edge20\" class=\"edge\">\n",
       "<title>19&#45;&gt;20</title>\n",
       "<path fill=\"none\" stroke=\"black\" d=\"M1147.47,-313.24C1139.03,-302.13 1129.75,-289.9 1121.26,-278.73\"/>\n",
       "<polygon fill=\"black\" stroke=\"black\" points=\"1124.12,-276.7 1115.28,-270.85 1118.54,-280.93 1124.12,-276.7\"/>\n",
       "</g>\n",
       "<!-- 21 -->\n",
       "<g id=\"node22\" class=\"node\">\n",
       "<title>21</title>\n",
       "<path fill=\"#e99355\" stroke=\"black\" d=\"M1369.88,-277.5C1369.88,-277.5 1194.12,-277.5 1194.12,-277.5 1188.12,-277.5 1182.12,-271.5 1182.12,-265.5 1182.12,-265.5 1182.12,-215.5 1182.12,-215.5 1182.12,-209.5 1188.12,-203.5 1194.12,-203.5 1194.12,-203.5 1369.88,-203.5 1369.88,-203.5 1375.88,-203.5 1381.88,-209.5 1381.88,-215.5 1381.88,-215.5 1381.88,-265.5 1381.88,-265.5 1381.88,-271.5 1375.88,-277.5 1369.88,-277.5\"/>\n",
       "<text text-anchor=\"start\" x=\"1240.75\" y=\"-260.2\" font-family=\"Helvetica,sans-Serif\" font-size=\"14.00\">Salary ≤ 8.55</text>\n",
       "<text text-anchor=\"start\" x=\"1190.12\" y=\"-243.7\" font-family=\"Helvetica,sans-Serif\" font-size=\"14.00\">squared_error = 10196038.5</text>\n",
       "<text text-anchor=\"start\" x=\"1243\" y=\"-227.2\" font-family=\"Helvetica,sans-Serif\" font-size=\"14.00\">samples = 4</text>\n",
       "<text text-anchor=\"start\" x=\"1226.88\" y=\"-210.7\" font-family=\"Helvetica,sans-Serif\" font-size=\"14.00\">value = 110366.0</text>\n",
       "</g>\n",
       "<!-- 19&#45;&gt;21 -->\n",
       "<g id=\"edge21\" class=\"edge\">\n",
       "<title>19&#45;&gt;21</title>\n",
       "<path fill=\"none\" stroke=\"black\" d=\"M1210.93,-313.24C1219.66,-304.42 1229.1,-294.9 1238.15,-285.76\"/>\n",
       "<polygon fill=\"black\" stroke=\"black\" points=\"1240.37,-288.49 1244.92,-278.93 1235.4,-283.57 1240.37,-288.49\"/>\n",
       "</g>\n",
       "<!-- 22 -->\n",
       "<g id=\"node23\" class=\"node\">\n",
       "<title>22</title>\n",
       "<path fill=\"#e88e4d\" stroke=\"black\" d=\"M1302,-159.25C1302,-159.25 1184,-159.25 1184,-159.25 1178,-159.25 1172,-153.25 1172,-147.25 1172,-147.25 1172,-113.75 1172,-113.75 1172,-107.75 1178,-101.75 1184,-101.75 1184,-101.75 1302,-101.75 1302,-101.75 1308,-101.75 1314,-107.75 1314,-113.75 1314,-113.75 1314,-147.25 1314,-147.25 1314,-153.25 1308,-159.25 1302,-159.25\"/>\n",
       "<text text-anchor=\"start\" x=\"1180\" y=\"-141.95\" font-family=\"Helvetica,sans-Serif\" font-size=\"14.00\">squared_error = 0.0</text>\n",
       "<text text-anchor=\"start\" x=\"1204\" y=\"-125.45\" font-family=\"Helvetica,sans-Serif\" font-size=\"14.00\">samples = 1</text>\n",
       "<text text-anchor=\"start\" x=\"1187.88\" y=\"-108.95\" font-family=\"Helvetica,sans-Serif\" font-size=\"14.00\">value = 113813.0</text>\n",
       "</g>\n",
       "<!-- 21&#45;&gt;22 -->\n",
       "<g id=\"edge22\" class=\"edge\">\n",
       "<title>21&#45;&gt;22</title>\n",
       "<path fill=\"none\" stroke=\"black\" d=\"M1268.91,-203.24C1265.09,-192.69 1260.92,-181.12 1257.05,-170.41\"/>\n",
       "<polygon fill=\"black\" stroke=\"black\" points=\"1260.36,-169.28 1253.68,-161.07 1253.78,-171.66 1260.36,-169.28\"/>\n",
       "</g>\n",
       "<!-- 23 -->\n",
       "<g id=\"node24\" class=\"node\">\n",
       "<title>23</title>\n",
       "<path fill=\"#e99558\" stroke=\"black\" d=\"M1511.75,-167.5C1511.75,-167.5 1344.25,-167.5 1344.25,-167.5 1338.25,-167.5 1332.25,-161.5 1332.25,-155.5 1332.25,-155.5 1332.25,-105.5 1332.25,-105.5 1332.25,-99.5 1338.25,-93.5 1344.25,-93.5 1344.25,-93.5 1511.75,-93.5 1511.75,-93.5 1517.75,-93.5 1523.75,-99.5 1523.75,-105.5 1523.75,-105.5 1523.75,-155.5 1523.75,-155.5 1523.75,-161.5 1517.75,-167.5 1511.75,-167.5\"/>\n",
       "<text text-anchor=\"start\" x=\"1390.88\" y=\"-150.2\" font-family=\"Helvetica,sans-Serif\" font-size=\"14.00\">Salary ≤ 9.4</text>\n",
       "<text text-anchor=\"start\" x=\"1340.25\" y=\"-133.7\" font-family=\"Helvetica,sans-Serif\" font-size=\"14.00\">squared_error = 8313914.0</text>\n",
       "<text text-anchor=\"start\" x=\"1389\" y=\"-117.2\" font-family=\"Helvetica,sans-Serif\" font-size=\"14.00\">samples = 3</text>\n",
       "<text text-anchor=\"start\" x=\"1372.88\" y=\"-100.7\" font-family=\"Helvetica,sans-Serif\" font-size=\"14.00\">value = 109217.0</text>\n",
       "</g>\n",
       "<!-- 21&#45;&gt;23 -->\n",
       "<g id=\"edge23\" class=\"edge\">\n",
       "<title>21&#45;&gt;23</title>\n",
       "<path fill=\"none\" stroke=\"black\" d=\"M1331.02,-203.24C1343.42,-194.07 1356.86,-184.13 1369.67,-174.65\"/>\n",
       "<polygon fill=\"black\" stroke=\"black\" points=\"1371.68,-177.51 1377.64,-168.75 1367.52,-171.88 1371.68,-177.51\"/>\n",
       "</g>\n",
       "<!-- 24 -->\n",
       "<g id=\"node25\" class=\"node\">\n",
       "<title>24</title>\n",
       "<path fill=\"#ea975c\" stroke=\"black\" d=\"M1475.88,-57.5C1475.88,-57.5 1300.12,-57.5 1300.12,-57.5 1294.12,-57.5 1288.12,-51.5 1288.12,-45.5 1288.12,-45.5 1288.12,-12 1288.12,-12 1288.12,-6 1294.12,0 1300.12,0 1300.12,0 1475.88,0 1475.88,0 1481.88,0 1487.88,-6 1487.88,-12 1487.88,-12 1487.88,-45.5 1487.88,-45.5 1487.88,-51.5 1481.88,-57.5 1475.88,-57.5\"/>\n",
       "<text text-anchor=\"start\" x=\"1296.12\" y=\"-40.2\" font-family=\"Helvetica,sans-Serif\" font-size=\"14.00\">squared_error = 3703700.25</text>\n",
       "<text text-anchor=\"start\" x=\"1349\" y=\"-23.7\" font-family=\"Helvetica,sans-Serif\" font-size=\"14.00\">samples = 2</text>\n",
       "<text text-anchor=\"start\" x=\"1332.88\" y=\"-7.2\" font-family=\"Helvetica,sans-Serif\" font-size=\"14.00\">value = 107507.5</text>\n",
       "</g>\n",
       "<!-- 23&#45;&gt;24 -->\n",
       "<g id=\"edge24\" class=\"edge\">\n",
       "<title>23&#45;&gt;24</title>\n",
       "<path fill=\"none\" stroke=\"black\" d=\"M1413.45,-93.21C1410.18,-85.07 1406.71,-76.42 1403.42,-68.2\"/>\n",
       "<polygon fill=\"black\" stroke=\"black\" points=\"1406.75,-67.11 1399.78,-59.13 1400.26,-69.72 1406.75,-67.11\"/>\n",
       "</g>\n",
       "<!-- 25 -->\n",
       "<g id=\"node26\" class=\"node\">\n",
       "<title>25</title>\n",
       "<path fill=\"#e89050\" stroke=\"black\" d=\"M1636,-57.5C1636,-57.5 1518,-57.5 1518,-57.5 1512,-57.5 1506,-51.5 1506,-45.5 1506,-45.5 1506,-12 1506,-12 1506,-6 1512,0 1518,0 1518,0 1636,0 1636,0 1642,0 1648,-6 1648,-12 1648,-12 1648,-45.5 1648,-45.5 1648,-51.5 1642,-57.5 1636,-57.5\"/>\n",
       "<text text-anchor=\"start\" x=\"1514\" y=\"-40.2\" font-family=\"Helvetica,sans-Serif\" font-size=\"14.00\">squared_error = 0.0</text>\n",
       "<text text-anchor=\"start\" x=\"1538\" y=\"-23.7\" font-family=\"Helvetica,sans-Serif\" font-size=\"14.00\">samples = 1</text>\n",
       "<text text-anchor=\"start\" x=\"1521.88\" y=\"-7.2\" font-family=\"Helvetica,sans-Serif\" font-size=\"14.00\">value = 112636.0</text>\n",
       "</g>\n",
       "<!-- 23&#45;&gt;25 -->\n",
       "<g id=\"edge25\" class=\"edge\">\n",
       "<title>23&#45;&gt;25</title>\n",
       "<path fill=\"none\" stroke=\"black\" d=\"M1482.21,-93.21C1496.41,-83.7 1511.67,-73.48 1525.71,-64.09\"/>\n",
       "<polygon fill=\"black\" stroke=\"black\" points=\"1527.59,-67.04 1533.95,-58.57 1523.69,-61.22 1527.59,-67.04\"/>\n",
       "</g>\n",
       "<!-- 27 -->\n",
       "<g id=\"node28\" class=\"node\">\n",
       "<title>27</title>\n",
       "<path fill=\"#e58139\" stroke=\"black\" d=\"M1530,-269.25C1530,-269.25 1412,-269.25 1412,-269.25 1406,-269.25 1400,-263.25 1400,-257.25 1400,-257.25 1400,-223.75 1400,-223.75 1400,-217.75 1406,-211.75 1412,-211.75 1412,-211.75 1530,-211.75 1530,-211.75 1536,-211.75 1542,-217.75 1542,-223.75 1542,-223.75 1542,-257.25 1542,-257.25 1542,-263.25 1536,-269.25 1530,-269.25\"/>\n",
       "<text text-anchor=\"start\" x=\"1408\" y=\"-251.95\" font-family=\"Helvetica,sans-Serif\" font-size=\"14.00\">squared_error = 0.0</text>\n",
       "<text text-anchor=\"start\" x=\"1432\" y=\"-235.45\" font-family=\"Helvetica,sans-Serif\" font-size=\"14.00\">samples = 1</text>\n",
       "<text text-anchor=\"start\" x=\"1415.88\" y=\"-218.95\" font-family=\"Helvetica,sans-Serif\" font-size=\"14.00\">value = 122392.0</text>\n",
       "</g>\n",
       "<!-- 26&#45;&gt;27 -->\n",
       "<g id=\"edge27\" class=\"edge\">\n",
       "<title>26&#45;&gt;27</title>\n",
       "<path fill=\"none\" stroke=\"black\" d=\"M1471,-313.24C1471,-302.91 1471,-291.6 1471,-281.09\"/>\n",
       "<polygon fill=\"black\" stroke=\"black\" points=\"1474.5,-281.16 1471,-271.16 1467.5,-281.16 1474.5,-281.16\"/>\n",
       "</g>\n",
       "<!-- 28 -->\n",
       "<g id=\"node29\" class=\"node\">\n",
       "<title>28</title>\n",
       "<path fill=\"#e5823a\" stroke=\"black\" d=\"M1690,-269.25C1690,-269.25 1572,-269.25 1572,-269.25 1566,-269.25 1560,-263.25 1560,-257.25 1560,-257.25 1560,-223.75 1560,-223.75 1560,-217.75 1566,-211.75 1572,-211.75 1572,-211.75 1690,-211.75 1690,-211.75 1696,-211.75 1702,-217.75 1702,-223.75 1702,-223.75 1702,-257.25 1702,-257.25 1702,-263.25 1696,-269.25 1690,-269.25\"/>\n",
       "<text text-anchor=\"start\" x=\"1568\" y=\"-251.95\" font-family=\"Helvetica,sans-Serif\" font-size=\"14.00\">squared_error = 0.0</text>\n",
       "<text text-anchor=\"start\" x=\"1592\" y=\"-235.45\" font-family=\"Helvetica,sans-Serif\" font-size=\"14.00\">samples = 1</text>\n",
       "<text text-anchor=\"start\" x=\"1575.88\" y=\"-218.95\" font-family=\"Helvetica,sans-Serif\" font-size=\"14.00\">value = 121873.0</text>\n",
       "</g>\n",
       "<!-- 26&#45;&gt;28 -->\n",
       "<g id=\"edge28\" class=\"edge\">\n",
       "<title>26&#45;&gt;28</title>\n",
       "<path fill=\"none\" stroke=\"black\" d=\"M1524.72,-313.24C1542.49,-301.24 1562.21,-287.93 1579.79,-276.07\"/>\n",
       "<polygon fill=\"black\" stroke=\"black\" points=\"1581.72,-278.98 1588.05,-270.49 1577.81,-273.18 1581.72,-278.98\"/>\n",
       "</g>\n",
       "<!-- \\n -->\n",
       "<g id=\"node30\" class=\"node\">\n",
       "<title>\\n</title>\n",
       "<path fill=\"black\" stroke=\"black\" d=\"M1114,-588.5C1114,-588.5 1084,-588.5 1084,-588.5 1078,-588.5 1072,-582.5 1072,-576.5 1072,-576.5 1072,-564.5 1072,-564.5 1072,-558.5 1078,-552.5 1084,-552.5 1084,-552.5 1114,-552.5 1114,-552.5 1120,-552.5 1126,-558.5 1126,-564.5 1126,-564.5 1126,-576.5 1126,-576.5 1126,-582.5 1120,-588.5 1114,-588.5\"/>\n",
       "</g>\n",
       "</g>\n",
       "</svg>\n"
      ],
      "text/plain": [
       "<graphviz.sources.Source at 0x281e7e86e10>"
      ]
     },
     "execution_count": 68,
     "metadata": {},
     "output_type": "execute_result"
    }
   ],
   "source": [
    "dot_data = export_graphviz(model6, out_file=None,\n",
    "                           feature_names=['Salary'], # Используем список с одним элементом для одного признака\n",
    "                           class_names=data['YearsExperience'].unique().tolist(),\n",
    "                           filled=True, rounded=True, special_characters=True)\n",
    "pydot_graph = pydotplus.graph_from_dot_data(dot_data)\n",
    "pydot_graph.set_size(10)\n",
    "gvz_graph = graphviz.Source(pydot_graph.to_string())\n",
    "gvz_graph"
   ]
  },
  {
   "cell_type": "code",
   "execution_count": 71,
   "id": "1cb7d19f",
   "metadata": {
    "colab": {
     "base_uri": "https://localhost:8080/",
     "height": 34
    },
    "id": "1cb7d19f",
    "outputId": "19e82998-3995-42c7-dc5f-e9b290f985d7"
   },
   "outputs": [
    {
     "data": {
      "text/plain": [
       "'tree5.png'"
      ]
     },
     "execution_count": 71,
     "metadata": {},
     "output_type": "execute_result"
    }
   ],
   "source": [
    "# Создание объекта Graphviz из строки DOT\n",
    "gvz_graph = graphviz.Source(dot_data)\n",
    "\n",
    "# Сохранение графа в файл PNG\n",
    "gvz_graph.render(filename='tree5', format='png', cleanup=True)"
   ]
  },
  {
   "cell_type": "markdown",
   "id": "9c326de9",
   "metadata": {
    "id": "9c326de9"
   },
   "source": [
    "### Вывод правил дерева"
   ]
  },
  {
   "cell_type": "markdown",
   "id": "f16fc05e",
   "metadata": {
    "id": "f16fc05e"
   },
   "source": [
    "Выведем правила для дерева с глубиной = 3:"
   ]
  },
  {
   "cell_type": "code",
   "execution_count": 73,
   "id": "f00cc9d8",
   "metadata": {
    "colab": {
     "base_uri": "https://localhost:8080/",
     "height": 399
    },
    "id": "f00cc9d8",
    "outputId": "d22e7bc6-042a-4061-f6c0-f7ba71626b76"
   },
   "outputs": [
    {
     "data": {
      "text/html": [
       "<pre>|--- Salary <= 7.00\n",
       "|   |--- Salary <= 2.65\n",
       "|   |   |--- Salary <= 1.50\n",
       "|   |   |   |--- value: [42775.00]\n",
       "|   |   |--- Salary >  1.50\n",
       "|   |   |   |--- value: [38812.00]\n",
       "|   |--- Salary >  2.65\n",
       "|   |   |--- Salary <= 5.60\n",
       "|   |   |   |--- value: [59668.00]\n",
       "|   |   |--- Salary >  5.60\n",
       "|   |   |   |--- value: [81364.00]\n",
       "|--- Salary >  7.00\n",
       "|   |--- Salary <= 10.05\n",
       "|   |   |--- Salary <= 8.15\n",
       "|   |   |   |--- value: [101303.00]\n",
       "|   |   |--- Salary >  8.15\n",
       "|   |   |   |--- value: [110366.00]\n",
       "|   |--- Salary >  10.05\n",
       "|   |   |--- Salary <= 10.50\n",
       "|   |   |   |--- value: [122392.00]\n",
       "|   |   |--- Salary >  10.50\n",
       "|   |   |   |--- value: [121873.00]\n",
       "</pre>"
      ],
      "text/plain": [
       "<IPython.core.display.HTML object>"
      ]
     },
     "execution_count": 73,
     "metadata": {},
     "output_type": "execute_result"
    }
   ],
   "source": [
    "from IPython.core.display import HTML\n",
    "from sklearn.tree import export_text\n",
    "tree_rules = export_text(model5, feature_names=['Salary'])\n",
    "HTML('<pre>' + tree_rules + '</pre>')"
   ]
  },
  {
   "cell_type": "markdown",
   "id": "87dec62f",
   "metadata": {
    "id": "87dec62f"
   },
   "source": [
    "И для дерева с глубиной = 5:"
   ]
  },
  {
   "cell_type": "code",
   "execution_count": 74,
   "id": "d87e9734",
   "metadata": {
    "colab": {
     "base_uri": "https://localhost:8080/",
     "height": 1000
    },
    "id": "d87e9734",
    "outputId": "fce4c240-06bc-434a-be1e-9f48083df343"
   },
   "outputs": [
    {
     "data": {
      "text/html": [
       "<pre>|--- Salary <= 7.00\n",
       "|   |--- Salary <= 2.65\n",
       "|   |   |--- Salary <= 1.50\n",
       "|   |   |   |--- Salary <= 1.30\n",
       "|   |   |   |   |--- value: [39344.00]\n",
       "|   |   |   |--- Salary >  1.30\n",
       "|   |   |   |   |--- value: [46206.00]\n",
       "|   |   |--- Salary >  1.50\n",
       "|   |   |   |--- Salary <= 1.95\n",
       "|   |   |   |   |--- value: [37732.00]\n",
       "|   |   |   |--- Salary >  1.95\n",
       "|   |   |   |   |--- value: [39892.00]\n",
       "|   |--- Salary >  2.65\n",
       "|   |   |--- Salary <= 5.60\n",
       "|   |   |   |--- Salary <= 4.60\n",
       "|   |   |   |   |--- Salary <= 3.55\n",
       "|   |   |   |   |   |--- value: [58921.50]\n",
       "|   |   |   |   |--- Salary >  3.55\n",
       "|   |   |   |   |   |--- value: [56756.25]\n",
       "|   |   |   |--- Salary >  4.60\n",
       "|   |   |   |   |--- Salary <= 5.10\n",
       "|   |   |   |   |   |--- value: [67939.00]\n",
       "|   |   |   |   |--- Salary >  5.10\n",
       "|   |   |   |   |   |--- value: [66030.00]\n",
       "|   |   |--- Salary >  5.60\n",
       "|   |   |   |--- value: [81364.00]\n",
       "|--- Salary >  7.00\n",
       "|   |--- Salary <= 10.05\n",
       "|   |   |--- Salary <= 8.15\n",
       "|   |   |   |--- value: [101303.00]\n",
       "|   |   |--- Salary >  8.15\n",
       "|   |   |   |--- Salary <= 8.55\n",
       "|   |   |   |   |--- value: [113813.00]\n",
       "|   |   |   |--- Salary >  8.55\n",
       "|   |   |   |   |--- Salary <= 9.40\n",
       "|   |   |   |   |   |--- value: [107507.50]\n",
       "|   |   |   |   |--- Salary >  9.40\n",
       "|   |   |   |   |   |--- value: [112636.00]\n",
       "|   |--- Salary >  10.05\n",
       "|   |   |--- Salary <= 10.50\n",
       "|   |   |   |--- value: [122392.00]\n",
       "|   |   |--- Salary >  10.50\n",
       "|   |   |   |--- value: [121873.00]\n",
       "</pre>"
      ],
      "text/plain": [
       "<IPython.core.display.HTML object>"
      ]
     },
     "execution_count": 74,
     "metadata": {},
     "output_type": "execute_result"
    }
   ],
   "source": [
    "from IPython.core.display import HTML\n",
    "from sklearn.tree import export_text\n",
    "tree_rules = export_text(model6, feature_names=['Salary'])\n",
    "HTML('<pre>' + tree_rules + '</pre>')"
   ]
  }
 ],
 "metadata": {
  "authors": [
   {
    "name": "Анцифров Никита Сергеевич"
   }
  ],
  "colab": {
   "provenance": []
  },
  "group": "ИУ5-61Б",
  "kernelspec": {
   "display_name": "Python 3 (ipykernel)",
   "language": "python",
   "name": "python3"
  },
  "lab_number": 4,
  "language_info": {
   "codemirror_mode": {
    "name": "ipython",
    "version": 3
   },
   "file_extension": ".py",
   "mimetype": "text/x-python",
   "name": "python",
   "nbconvert_exporter": "python",
   "pygments_lexer": "ipython3",
   "version": "3.11.5"
  },
  "title": "Линейные модели, SVM и деревья решений"
 },
 "nbformat": 4,
 "nbformat_minor": 5
}
